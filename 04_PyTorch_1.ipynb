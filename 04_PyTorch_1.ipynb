{
 "cells": [
  {
   "cell_type": "markdown",
   "metadata": {
    "colab_type": "text",
    "id": "view-in-github"
   },
   "source": [
    "<a href=\"https://colab.research.google.com/github/tomonari-masada/course-nlp2020/blob/master/04_PyTorch_1.ipynb\" target=\"_parent\"><img src=\"https://colab.research.google.com/assets/colab-badge.svg\" alt=\"Open In Colab\"/></a>"
   ]
  },
  {
   "cell_type": "markdown",
   "metadata": {
    "id": "jEY4wJjS58Uw"
   },
   "source": [
    "# 04 PyTorch入門（１）\n",
    "参考資料: \n",
    "* PyTorch公式のチュートリアル https://pytorch.org/tutorials/beginner/deep_learning_60min_blitz.html\n",
    "* 《20天吃掉那只Pytorch》 https://github.com/lyhue1991/eat_pytorch_in_20_days"
   ]
  },
  {
   "cell_type": "markdown",
   "metadata": {
    "id": "D4eoNznm85cQ"
   },
   "source": [
    "注意:\n",
    "* ランタイムのタイプをGPUにしておいてください。\n",
    "  * 上のメニュー「ランタイム」→「ランタイムのタイプを変更」で「GPU」を選択 \n"
   ]
  },
  {
   "cell_type": "markdown",
   "metadata": {
    "id": "Nb3T_6gD6Anx"
   },
   "source": [
    "## 04-01 テンソル"
   ]
  },
  {
   "cell_type": "code",
   "execution_count": 39,
   "metadata": {
    "id": "HnNFPrUe53sF"
   },
   "outputs": [],
   "source": [
    "import numpy as np\n",
    "import torch"
   ]
  },
  {
   "cell_type": "markdown",
   "metadata": {
    "id": "3FXJ5hE3qeL4"
   },
   "source": [
    "### テンソルの作り方"
   ]
  },
  {
   "cell_type": "code",
   "execution_count": 40,
   "metadata": {
    "colab": {
     "base_uri": "https://localhost:8080/",
     "height": 53
    },
    "id": "vJm1Nbbo--oF",
    "outputId": "a08ef7e4-4df1-4ed9-e064-b5a13b272b58"
   },
   "outputs": [
    {
     "name": "stdout",
     "output_type": "stream",
     "text": [
      "tensor([[1., 1., 1., 1., 1.],\n",
      "        [1., 1., 1., 1., 1.]])\n"
     ]
    }
   ],
   "source": [
    "# 1で埋められたテンソルを作る\n",
    "x = torch.ones(2,5)\n",
    "print(x)"
   ]
  },
  {
   "cell_type": "code",
   "execution_count": 41,
   "metadata": {
    "colab": {
     "base_uri": "https://localhost:8080/",
     "height": 35
    },
    "id": "_JKj6OfJBpcv",
    "outputId": "5010b9fb-6899-495a-e303-1deb4c49aa6f"
   },
   "outputs": [
    {
     "name": "stdout",
     "output_type": "stream",
     "text": [
      "torch.float32\n"
     ]
    }
   ],
   "source": [
    "# 要素のデータ型を確認する\n",
    "print(x.dtype)"
   ]
  },
  {
   "cell_type": "code",
   "execution_count": 42,
   "metadata": {
    "colab": {
     "base_uri": "https://localhost:8080/",
     "height": 89
    },
    "id": "v2_2JQuB_Efe",
    "outputId": "5ec42347-c6d5-42a7-a8ca-3066d0baa07e"
   },
   "outputs": [
    {
     "name": "stdout",
     "output_type": "stream",
     "text": [
      "tensor([[0., 0., 0., 0.],\n",
      "        [0., 0., 0., 0.],\n",
      "        [0., 0., 0., 0.],\n",
      "        [0., 0., 0., 0.]])\n"
     ]
    }
   ],
   "source": [
    "# 0で埋められたテンソルを作る\n",
    "x = torch.zeros(4,4)\n",
    "print(x)"
   ]
  },
  {
   "cell_type": "code",
   "execution_count": 43,
   "metadata": {
    "colab": {
     "base_uri": "https://localhost:8080/",
     "height": 53
    },
    "id": "9yyGCRno_TXq",
    "outputId": "748a6c51-cadc-4d36-be0c-0b2ab52c1887"
   },
   "outputs": [
    {
     "name": "stdout",
     "output_type": "stream",
     "text": [
      "tensor([[3.1416, 3.1416, 3.1416],\n",
      "        [3.1416, 3.1416, 3.1416]])\n"
     ]
    }
   ],
   "source": [
    "# 特定の値で埋められたテンソルを作る\n",
    "x = torch.full((2, 3), 3.141592)\n",
    "print(x)"
   ]
  },
  {
   "cell_type": "code",
   "execution_count": 44,
   "metadata": {
    "colab": {
     "base_uri": "https://localhost:8080/",
     "height": 107
    },
    "id": "REXovnHcq18O",
    "outputId": "5b59f08a-4a52-4d8d-edbb-95f67b1ce407"
   },
   "outputs": [
    {
     "name": "stdout",
     "output_type": "stream",
     "text": [
      "tensor([[-1.2927e+11,  3.0714e-41, -1.3160e+11],\n",
      "        [ 3.0714e-41,  8.9683e-44,  0.0000e+00],\n",
      "        [ 1.1210e-43,  0.0000e+00, -1.3293e+11],\n",
      "        [ 3.0714e-41,  0.0000e+00,  0.0000e+00],\n",
      "        [ 0.0000e+00,  0.0000e+00,  0.0000e+00]])\n"
     ]
    }
   ],
   "source": [
    "# 不定な値を要素とするテンソルを作る\n",
    "x = torch.empty(5, 3) \n",
    "print(x)"
   ]
  },
  {
   "cell_type": "code",
   "execution_count": 45,
   "metadata": {
    "colab": {
     "base_uri": "https://localhost:8080/",
     "height": 107
    },
    "id": "3ajeiMCeq5-y",
    "outputId": "f4bd823a-83e3-46ac-c5b7-898301a055ec"
   },
   "outputs": [
    {
     "name": "stdout",
     "output_type": "stream",
     "text": [
      "tensor([[0.3590, 0.5784, 0.9382],\n",
      "        [0.8041, 0.5007, 0.3232],\n",
      "        [0.7642, 0.6829, 0.1568],\n",
      "        [0.9921, 0.6378, 0.6918],\n",
      "        [0.6599, 0.8316, 0.0901]])\n"
     ]
    }
   ],
   "source": [
    "# [0,1)の一様乱数を要素とするテンソルを作る\n",
    "x = torch.rand(5, 3)\n",
    "print(x)"
   ]
  },
  {
   "cell_type": "code",
   "execution_count": 46,
   "metadata": {
    "colab": {
     "base_uri": "https://localhost:8080/",
     "height": 35
    },
    "id": "eNtphqmer-bo",
    "outputId": "46aaa4d4-11c2-464c-ee88-b7b8e3763242"
   },
   "outputs": [
    {
     "name": "stdout",
     "output_type": "stream",
     "text": [
      "tensor([5.5000, 3.0000])\n"
     ]
    }
   ],
   "source": [
    "# Pythonのリストからテンソルを作る\n",
    "x = torch.tensor([5.5, 3])\n",
    "print(x)"
   ]
  },
  {
   "cell_type": "code",
   "execution_count": 47,
   "metadata": {
    "colab": {
     "base_uri": "https://localhost:8080/",
     "height": 107
    },
    "id": "CQD9IrR__a4O",
    "outputId": "4c8aae6c-829c-4d90-ead6-d28ee45f6a26"
   },
   "outputs": [
    {
     "name": "stdout",
     "output_type": "stream",
     "text": [
      "[1 2 3]\n",
      "tensor([1, 2, 3])\n",
      "\n",
      "tensor([-1,  2,  3])\n",
      "[-1 -2  3]\n"
     ]
    }
   ],
   "source": [
    "# NumPyのndarrayからテンソルを作る\n",
    "a = np.array([1, 2, 3])\n",
    "print(a)\n",
    "t = torch.from_numpy(a)\n",
    "print(t)\n",
    "print()\n",
    "\n",
    "a[0] = -1\n",
    "print(t)\n",
    "t[1] = -2\n",
    "print(a)"
   ]
  },
  {
   "cell_type": "code",
   "execution_count": 48,
   "metadata": {
    "colab": {
     "base_uri": "https://localhost:8080/",
     "height": 143
    },
    "id": "pZMEJU17AUMf",
    "outputId": "c9a78b54-8176-4493-a4df-30221fab5988"
   },
   "outputs": [
    {
     "name": "stdout",
     "output_type": "stream",
     "text": [
      "[1 2 3]\n",
      "tensor([1, 2, 3])\n",
      "tensor([1, 2, 3])\n",
      "[1 2 3]\n",
      "tensor([-1,  2,  3])\n",
      "[ 1 -2  3]\n",
      "tensor([-1,  2,  3])\n"
     ]
    }
   ],
   "source": [
    "# cloneメソッドを使ってテンソルの複製を作る\n",
    "a = np.array([1, 2, 3])\n",
    "print(a)\n",
    "t = torch.from_numpy(a)\n",
    "print(t)\n",
    "s = t.clone()\n",
    "print(s)\n",
    "\n",
    "s[0] = -1\n",
    "print(a)\n",
    "print(s)\n",
    "\n",
    "a[1] = -2\n",
    "print(a)\n",
    "print(s)"
   ]
  },
  {
   "cell_type": "code",
   "execution_count": 49,
   "metadata": {
    "colab": {
     "base_uri": "https://localhost:8080/",
     "height": 269
    },
    "id": "pep3TEu8DT30",
    "outputId": "dfb6f683-d93e-4593-ac6c-0b27ad96b7fb"
   },
   "outputs": [
    {
     "name": "stdout",
     "output_type": "stream",
     "text": [
      "tensor([[1., 1., 1., 1.],\n",
      "        [1., 1., 1., 1.],\n",
      "        [1., 1., 1., 1.]])\n",
      "[[1. 1. 1. 1.]\n",
      " [1. 1. 1. 1.]\n",
      " [1. 1. 1. 1.]]\n",
      "\n",
      "tensor([[-1.,  1.,  1.,  1.],\n",
      "        [ 1.,  1.,  1.,  1.],\n",
      "        [ 1.,  1.,  1.,  1.]])\n",
      "[[-1.  1.  1.  1.]\n",
      " [ 1.  1.  1.  1.]\n",
      " [ 1.  1.  1.  1.]]\n",
      "\n"
     ]
    }
   ],
   "source": [
    "# テンソルからndarrayを作る\n",
    "x = torch.ones(3,4)\n",
    "print(x)\n",
    "y = x.numpy()\n",
    "print(y)\n",
    "print()\n",
    "\n",
    "x[0,0] = -1\n",
    "print(x)\n",
    "print(y)\n",
    "print()"
   ]
  },
  {
   "cell_type": "markdown",
   "metadata": {
    "id": "Ti9r0QyNauEN"
   },
   "source": [
    "参考: NumPyのnp.copyはshallow copy\n",
    "\n",
    "cf. https://numpy.org/doc/stable/reference/generated/numpy.copy.html\n"
   ]
  },
  {
   "cell_type": "code",
   "execution_count": 50,
   "metadata": {
    "colab": {
     "base_uri": "https://localhost:8080/",
     "height": 179
    },
    "id": "Curpxrdlaa8S",
    "outputId": "3549898d-958b-4c90-ba48-dda9b7886b62"
   },
   "outputs": [
    {
     "name": "stdout",
     "output_type": "stream",
     "text": [
      "tensor([[1., 1., 1., 1.],\n",
      "        [1., 1., 1., 1.],\n",
      "        [1., 1., 1., 1.]])\n",
      "tensor([[-1.,  1.,  1.,  1.],\n",
      "        [ 1.,  1.,  1.,  1.],\n",
      "        [ 1.,  1.,  1.,  1.]])\n",
      "[[1. 1. 1. 1.]\n",
      " [1. 1. 1. 1.]\n",
      " [1. 1. 1. 1.]]\n"
     ]
    }
   ],
   "source": [
    "from copy import deepcopy\n",
    "\n",
    "x = torch.ones(3,4)\n",
    "print(x)\n",
    "y = deepcopy(x.numpy())\n",
    "x[0,0] = -1\n",
    "print(x)\n",
    "print(y)"
   ]
  },
  {
   "cell_type": "markdown",
   "metadata": {
    "id": "yH3xfOOtBXc7"
   },
   "source": [
    "### テンソルの形状を得る"
   ]
  },
  {
   "cell_type": "code",
   "execution_count": 51,
   "metadata": {
    "colab": {
     "base_uri": "https://localhost:8080/",
     "height": 143
    },
    "id": "lGjDbafgsnc4",
    "outputId": "8799eeaa-7b55-4e45-9145-2e9c95be1047"
   },
   "outputs": [
    {
     "name": "stdout",
     "output_type": "stream",
     "text": [
      "tensor([[0., 0., 0.],\n",
      "        [0., 0., 0.],\n",
      "        [0., 0., 0.],\n",
      "        [0., 0., 0.],\n",
      "        [0., 0., 0.]])\n",
      "torch.Size([5, 3])\n",
      "torch.Size([5, 3])\n"
     ]
    }
   ],
   "source": [
    "x = torch.zeros(5, 3) \n",
    "print(x)\n",
    "\n",
    "print(x.size())\n",
    "print(x.shape)"
   ]
  },
  {
   "cell_type": "markdown",
   "metadata": {
    "id": "EQmjzqTiBGSm"
   },
   "source": [
    "### 既存のテンソルから新たにテンソルを作る"
   ]
  },
  {
   "cell_type": "code",
   "execution_count": 52,
   "metadata": {
    "colab": {
     "base_uri": "https://localhost:8080/",
     "height": 107
    },
    "id": "yRt1jFlTBT2d",
    "outputId": "2b872af2-90ac-460d-a64d-f58208bf5df6"
   },
   "outputs": [
    {
     "name": "stdout",
     "output_type": "stream",
     "text": [
      "tensor([[ 2.0536, -0.5541, -0.7001],\n",
      "        [ 0.9195,  2.3709, -1.1757],\n",
      "        [ 0.6505,  0.9588, -0.1387],\n",
      "        [-0.4290, -3.0167, -0.0701],\n",
      "        [-1.1674, -0.6669, -0.2206]])\n"
     ]
    }
   ],
   "source": [
    "# 既存のテンソルから形状を引き継いで新たにテンソルを作る\n",
    "# 要素のデータ型は変更できる\n",
    "x = torch.randn_like(x, dtype=torch.float)\n",
    "print(x)"
   ]
  },
  {
   "cell_type": "markdown",
   "metadata": {
    "id": "q_UZIAV06aqr"
   },
   "source": [
    "### テンソルの要素のデータ型いろいろ"
   ]
  },
  {
   "cell_type": "code",
   "execution_count": 53,
   "metadata": {
    "colab": {
     "base_uri": "https://localhost:8080/",
     "height": 35
    },
    "id": "mXv3W-9zCjn1",
    "outputId": "47a7df5d-abd2-4b89-adfb-3430d1983c3f"
   },
   "outputs": [
    {
     "name": "stdout",
     "output_type": "stream",
     "text": [
      "tensor(1) torch.int64\n"
     ]
    }
   ],
   "source": [
    "i = torch.tensor(1)\n",
    "print(i, i.dtype)"
   ]
  },
  {
   "cell_type": "code",
   "execution_count": 54,
   "metadata": {
    "colab": {
     "base_uri": "https://localhost:8080/",
     "height": 107
    },
    "id": "JPHJ9pGa6Ra6",
    "outputId": "37c74f80-4c3a-45c2-9a68-f382d7c44bbb"
   },
   "outputs": [
    {
     "name": "stdout",
     "output_type": "stream",
     "text": [
      "tensor(2.) torch.float32\n",
      "tensor(2., dtype=torch.float64) torch.float64\n",
      "tensor(2., dtype=torch.float16) torch.float16\n",
      "\n",
      "tensor(6., dtype=torch.float64)\n"
     ]
    }
   ],
   "source": [
    "x = torch.tensor(2.0)\n",
    "print(x, x.dtype)\n",
    "y = torch.tensor(2.0, dtype=torch.float64)\n",
    "print(y, y.dtype)\n",
    "z = torch.tensor(2.0, dtype=torch.float16)\n",
    "print(z, z.dtype)\n",
    "print()\n",
    "\n",
    "print(x + y + z)"
   ]
  },
  {
   "cell_type": "code",
   "execution_count": 55,
   "metadata": {
    "colab": {
     "base_uri": "https://localhost:8080/",
     "height": 35
    },
    "id": "7jIv5bx0Clps",
    "outputId": "bf2bacf6-7d3b-40d2-9032-6d7ea432ca1b"
   },
   "outputs": [
    {
     "name": "stdout",
     "output_type": "stream",
     "text": [
      "tensor(True) torch.bool\n"
     ]
    }
   ],
   "source": [
    "b = torch.tensor(True)\n",
    "print(b, b.dtype)"
   ]
  },
  {
   "cell_type": "markdown",
   "metadata": {
    "id": "mDrafV5e74Ca"
   },
   "source": [
    "### 特定の型のテンソルとして初期化(1)"
   ]
  },
  {
   "cell_type": "code",
   "execution_count": 56,
   "metadata": {
    "colab": {
     "base_uri": "https://localhost:8080/",
     "height": 71
    },
    "id": "XXFfYPSG6ZFO",
    "outputId": "26ee0d27-94c5-46c8-d0be-89fc86450b7f"
   },
   "outputs": [
    {
     "name": "stdout",
     "output_type": "stream",
     "text": [
      "tensor(1, dtype=torch.int32) torch.int32\n",
      "tensor(2.) torch.float32\n",
      "tensor(2., dtype=torch.float64) torch.float64\n"
     ]
    }
   ],
   "source": [
    "i = torch.tensor(1, dtype=torch.int32)\n",
    "print(i, i.dtype)\n",
    "x = torch.tensor(2.0, dtype=torch.float)\n",
    "print(x, x.dtype)\n",
    "z = torch.tensor(2.0, dtype=torch.double)\n",
    "print(z, z.dtype)"
   ]
  },
  {
   "cell_type": "markdown",
   "metadata": {
    "id": "vQrL43C27wrG"
   },
   "source": [
    "### 特定の型のテンソルとして初期化(2)"
   ]
  },
  {
   "cell_type": "code",
   "execution_count": 57,
   "metadata": {
    "colab": {
     "base_uri": "https://localhost:8080/",
     "height": 89
    },
    "id": "udgaTsg66syq",
    "outputId": "a2077585-57a5-4370-d53d-732e01152d78"
   },
   "outputs": [
    {
     "name": "stdout",
     "output_type": "stream",
     "text": [
      "tensor([1, 2, 3], dtype=torch.int32) torch.int32\n",
      "tensor([ 2., -4.]) torch.float32\n",
      "tensor([ 2., -4.], dtype=torch.float64) torch.float64\n",
      "tensor([ True, False,  True, False]) torch.bool\n"
     ]
    }
   ],
   "source": [
    "i = torch.IntTensor([1, 2, 3])\n",
    "print(i, i.dtype)\n",
    "x = torch.FloatTensor(np.array([2.0, -4.0]))\n",
    "print(x, x.dtype)\n",
    "y = torch.DoubleTensor([2.0, -4.0])\n",
    "print(y, y.dtype)\n",
    "b = torch.BoolTensor([1, 0, 2, 0])\n",
    "print(b, b.dtype)"
   ]
  },
  {
   "cell_type": "markdown",
   "metadata": {
    "id": "vxW9yw9X7jZZ"
   },
   "source": [
    "### 要素の型の変更"
   ]
  },
  {
   "cell_type": "code",
   "execution_count": 58,
   "metadata": {
    "colab": {
     "base_uri": "https://localhost:8080/",
     "height": 89
    },
    "id": "4fKa8r5g7C59",
    "outputId": "c0a2b182-1c36-4c3b-8049-b40c7082fcff"
   },
   "outputs": [
    {
     "name": "stdout",
     "output_type": "stream",
     "text": [
      "tensor([ 1, 10]) torch.int64\n",
      "tensor([ 1., 10.]) torch.float32\n",
      "tensor([ 1., 10.], dtype=torch.float64) torch.float64\n",
      "tensor([ 1., 10.]) torch.float32\n"
     ]
    }
   ],
   "source": [
    "i = torch.tensor([1, 10])\n",
    "print(i, i.dtype)\n",
    "x = i.float()\n",
    "print(x, x.dtype)\n",
    "y = i.type(torch.float64)\n",
    "print(y, y.dtype)\n",
    "z = i.type_as(x)\n",
    "print(z, z.dtype)"
   ]
  },
  {
   "cell_type": "markdown",
   "metadata": {
    "id": "S5YSHzUR8E_B"
   },
   "source": [
    "### スカラーとベクトル"
   ]
  },
  {
   "cell_type": "code",
   "execution_count": 59,
   "metadata": {
    "colab": {
     "base_uri": "https://localhost:8080/",
     "height": 197
    },
    "id": "f0KRJeiu7mE0",
    "outputId": "fd02bd2c-c34a-40c6-d957-043ed10f31de"
   },
   "outputs": [
    {
     "name": "stdout",
     "output_type": "stream",
     "text": [
      "tensor(1.)\n",
      "0\n",
      "\n",
      "tensor([1., 2., 3., 4.])\n",
      "1\n",
      "torch.Size([4])\n",
      "\n",
      "tensor([4.])\n",
      "1\n",
      "torch.Size([1])\n"
     ]
    }
   ],
   "source": [
    "s = torch.tensor(1.0)\n",
    "print(s)\n",
    "print(s.dim())\n",
    "print()\n",
    "v = torch.tensor([1.0, 2.0, 3.0, 4.0])\n",
    "print(v)\n",
    "print(v.dim())\n",
    "print(v.shape)\n",
    "print()\n",
    "v = torch.tensor([4.0])\n",
    "print(v)\n",
    "print(v.dim())\n",
    "print(v.shape)"
   ]
  },
  {
   "cell_type": "code",
   "execution_count": 60,
   "metadata": {
    "colab": {
     "base_uri": "https://localhost:8080/",
     "height": 53
    },
    "id": "gBuSFAnqvq4i",
    "outputId": "983409bf-eac9-4087-d17b-974c0c3a6f91"
   },
   "outputs": [
    {
     "name": "stdout",
     "output_type": "stream",
     "text": [
      "tensor([-0.1766])\n",
      "-0.17661455273628235\n"
     ]
    }
   ],
   "source": [
    "# 要素がひとつのテンソルから、その要素を単なる数値として取り出す\n",
    "x = torch.randn(1)\n",
    "print(x)\n",
    "print(x.item())"
   ]
  },
  {
   "cell_type": "markdown",
   "metadata": {
    "id": "ohAYO4Om8WmT"
   },
   "source": [
    "### 行列"
   ]
  },
  {
   "cell_type": "code",
   "execution_count": 61,
   "metadata": {
    "colab": {
     "base_uri": "https://localhost:8080/",
     "height": 107
    },
    "id": "SrayRh_48EPA",
    "outputId": "bebf5480-9761-43c3-aaac-6809723ced06"
   },
   "outputs": [
    {
     "name": "stdout",
     "output_type": "stream",
     "text": [
      "tensor([[1., 2.],\n",
      "        [3., 4.]])\n",
      "2\n",
      "torch.Size([2, 2])\n",
      "tensor(4.)\n"
     ]
    }
   ],
   "source": [
    "m = torch.tensor([[1.0, 2.0], [3.0, 4.0]])\n",
    "print(m)\n",
    "print(m.dim())\n",
    "print(m.shape)\n",
    "print(m[1, 1])"
   ]
  },
  {
   "cell_type": "markdown",
   "metadata": {
    "id": "6XRgzduC8oID"
   },
   "source": [
    "### テンソル"
   ]
  },
  {
   "cell_type": "code",
   "execution_count": 62,
   "metadata": {
    "colab": {
     "base_uri": "https://localhost:8080/",
     "height": 161
    },
    "id": "ZPERpt9z8YJ0",
    "outputId": "4b073bef-0665-4186-aa55-a70eb844b85d"
   },
   "outputs": [
    {
     "name": "stdout",
     "output_type": "stream",
     "text": [
      "tensor([[[1., 2.],\n",
      "         [3., 4.]],\n",
      "\n",
      "        [[5., 6.],\n",
      "         [7., 8.]]])\n",
      "3\n",
      "torch.Size([2, 2, 2])\n",
      "tensor(8.)\n"
     ]
    }
   ],
   "source": [
    "t = torch.tensor([[[1.0, 2.0], [3.0, 4.0]], [[5.0, 6.0], [7.0, 8.0]]])\n",
    "print(t)\n",
    "print(t.dim())\n",
    "print(t.shape)\n",
    "print(t[1, 1, 1])"
   ]
  },
  {
   "cell_type": "code",
   "execution_count": 63,
   "metadata": {
    "colab": {
     "base_uri": "https://localhost:8080/",
     "height": 287
    },
    "id": "MW1dYvFR8qYF",
    "outputId": "be1851a0-a243-4b30-a77b-4efb437fbb30"
   },
   "outputs": [
    {
     "name": "stdout",
     "output_type": "stream",
     "text": [
      "tensor([[[[1., 1.],\n",
      "          [2., 2.]],\n",
      "\n",
      "         [[3., 3.],\n",
      "          [4., 4.]]],\n",
      "\n",
      "\n",
      "        [[[5., 5.],\n",
      "          [6., 6.]],\n",
      "\n",
      "         [[7., 7.],\n",
      "          [8., 8.]]]])\n",
      "4\n",
      "torch.Size([2, 2, 2, 2])\n",
      "tensor(8.)\n"
     ]
    }
   ],
   "source": [
    "t = torch.tensor([[[[1.0, 1.0], [2.0, 2.0]], [[3.0, 3.0], [4.0, 4.0]]],\n",
    "                        [[[5.0, 5.0], [6.0, 6.0]], [[7.0, 7.0], [8.0, 8.0]]]])\n",
    "print(t)\n",
    "print(t.dim())\n",
    "print(t.shape)\n",
    "print(t[1, 1, 1, 1])"
   ]
  },
  {
   "cell_type": "markdown",
   "metadata": {
    "id": "PZQMWS__ohwA"
   },
   "source": [
    "## 04-02 テンソルのビュー "
   ]
  },
  {
   "cell_type": "markdown",
   "metadata": {
    "id": "Rjqhtv-n9mM4"
   },
   "source": [
    "### view()メソッド\n",
    "* viewとreshapeについては、下記リンク先を参照。\n",
    " * https://pytorch.org/docs/stable/tensor_view.html"
   ]
  },
  {
   "cell_type": "code",
   "execution_count": 64,
   "metadata": {
    "colab": {
     "base_uri": "https://localhost:8080/"
    },
    "id": "4VNbS-gekWPb",
    "outputId": "ba7238a4-1864-4f3e-aff7-dd858905824b"
   },
   "outputs": [
    {
     "name": "stdout",
     "output_type": "stream",
     "text": [
      "tensor([ 0,  1,  2,  3,  4,  5,  6,  7,  8,  9, 10, 11])\n",
      "torch.Size([12])\n"
     ]
    }
   ],
   "source": [
    "v = torch.arange(0, 12)\n",
    "print(v)\n",
    "print(v.shape)"
   ]
  },
  {
   "cell_type": "code",
   "execution_count": 65,
   "metadata": {
    "colab": {
     "base_uri": "https://localhost:8080/"
    },
    "id": "D-R-5W6d9bwV",
    "outputId": "018f6182-b75f-4887-c679-600e8506628b"
   },
   "outputs": [
    {
     "name": "stdout",
     "output_type": "stream",
     "text": [
      "tensor([[ 0,  1,  2,  3],\n",
      "        [ 4,  5,  6,  7],\n",
      "        [ 8,  9, 10, 11]])\n",
      "torch.Size([3, 4])\n",
      "tensor([[ 0,  1,  2],\n",
      "        [ 3,  4,  5],\n",
      "        [ 6,  7,  8],\n",
      "        [ 9, 10, 11]])\n",
      "torch.Size([4, 3])\n"
     ]
    }
   ],
   "source": [
    "m34 = v.view(3, 4)\n",
    "print(m34)\n",
    "print(m34.shape)\n",
    "\n",
    "m43 = v.view(4, -1)\n",
    "print(m43)\n",
    "print(m43.shape)"
   ]
  },
  {
   "cell_type": "markdown",
   "metadata": {
    "id": "JF4-o8Ow-vZK"
   },
   "source": [
    "### reshape()メソッド"
   ]
  },
  {
   "cell_type": "code",
   "execution_count": 66,
   "metadata": {
    "colab": {
     "base_uri": "https://localhost:8080/"
    },
    "id": "3IsUrajfkJRC",
    "outputId": "0d94f2b7-8b89-4f51-df8a-1568de1d5840"
   },
   "outputs": [
    {
     "name": "stdout",
     "output_type": "stream",
     "text": [
      "tensor([ 0,  1,  2,  3,  4,  5,  6,  7,  8,  9, 10, 11])\n"
     ]
    }
   ],
   "source": [
    "v = torch.arange(0, 12)\n",
    "print(v)"
   ]
  },
  {
   "cell_type": "code",
   "execution_count": 67,
   "metadata": {
    "colab": {
     "base_uri": "https://localhost:8080/"
    },
    "id": "gY9SucFBkHCU",
    "outputId": "145e73d9-081d-4ee9-8207-10587866a16d"
   },
   "outputs": [
    {
     "name": "stdout",
     "output_type": "stream",
     "text": [
      "tensor([[ 0,  1,  2,  3,  4,  5],\n",
      "        [ 6,  7,  8,  9, 10, 11]])\n",
      "torch.Size([2, 6])\n"
     ]
    }
   ],
   "source": [
    "m26 = v.view(2, 6)\n",
    "print(m26)\n",
    "print(m26.shape)"
   ]
  },
  {
   "cell_type": "markdown",
   "metadata": {
    "id": "49mAdtBNkqGR"
   },
   "source": [
    "### contiguousなテンソルとそうでないテンソルの違い\n",
    "* 「contiguousである」とは、テンソルとしての要素の配置の順番が、メモリ上での要素の配置の順番と一致していることを言う。\n",
    "* 例えばtメソッドは、見かけ上で転置するだけなので、その結果得られるテンソルでの要素の配置の順番は、メモリ上の要素の配置の順番と一致しなくなる。\n",
    "* contiguous()メソッドを呼ぶことで、強制的にメモリ上の要素の配置の順番を、テンソルでのそれに一致させることができる。"
   ]
  },
  {
   "cell_type": "code",
   "execution_count": 68,
   "metadata": {
    "colab": {
     "base_uri": "https://localhost:8080/"
    },
    "id": "Up7birrIkmWO",
    "outputId": "4f94bfea-42de-4bde-902d-ad3bb9223c69"
   },
   "outputs": [
    {
     "name": "stdout",
     "output_type": "stream",
     "text": [
      "True\n",
      "tensor([[ 0,  6],\n",
      "        [ 1,  7],\n",
      "        [ 2,  8],\n",
      "        [ 3,  9],\n",
      "        [ 4, 10],\n",
      "        [ 5, 11]])\n",
      "False\n",
      "tensor([[ 0,  6],\n",
      "        [ 1,  7],\n",
      "        [ 2,  8],\n",
      "        [ 3,  9],\n",
      "        [ 4, 10],\n",
      "        [ 5, 11]])\n",
      "True\n"
     ]
    }
   ],
   "source": [
    "print(m26.is_contiguous())\n",
    "\n",
    "m62 = m26.t()\n",
    "print(m62)\n",
    "print(m62.is_contiguous())\n",
    "\n",
    "m62_new = m62.contiguous()\n",
    "print(m62_new)\n",
    "print(m62_new.is_contiguous())"
   ]
  },
  {
   "cell_type": "code",
   "execution_count": 69,
   "metadata": {
    "colab": {
     "base_uri": "https://localhost:8080/"
    },
    "id": "W1hBFq0PuXbq",
    "outputId": "46367c6a-13af-41b5-e934-1f7db767ae83"
   },
   "outputs": [
    {
     "name": "stdout",
     "output_type": "stream",
     "text": [
      "tensor([[ 0,  1,  2,  3],\n",
      "        [ 4,  5,  6,  7],\n",
      "        [ 8,  9, 10, 11]])\n"
     ]
    }
   ],
   "source": [
    "v = torch.arange(0, 12)\n",
    "m26 = v.view(2, 6)\n",
    "m34 = m26.view(3, 4)\n",
    "print(m34)"
   ]
  },
  {
   "cell_type": "code",
   "execution_count": 70,
   "metadata": {
    "colab": {
     "base_uri": "https://localhost:8080/",
     "height": 210
    },
    "id": "mElojr5UmzvS",
    "outputId": "cc2c105d-13c6-45ab-a4d4-7ebd1ae80492"
   },
   "outputs": [
    {
     "ename": "RuntimeError",
     "evalue": "view size is not compatible with input tensor's size and stride (at least one dimension spans across two contiguous subspaces). Use .reshape(...) instead.",
     "output_type": "error",
     "traceback": [
      "\u001b[0;31m---------------------------------------------------------------------------\u001b[0m",
      "\u001b[0;31mRuntimeError\u001b[0m                              Traceback (most recent call last)",
      "\u001b[0;32m<ipython-input-70-92802f3987d6>\u001b[0m in \u001b[0;36m<module>\u001b[0;34m\u001b[0m\n\u001b[1;32m      2\u001b[0m \u001b[0mm26\u001b[0m \u001b[0;34m=\u001b[0m \u001b[0mv\u001b[0m\u001b[0;34m.\u001b[0m\u001b[0mview\u001b[0m\u001b[0;34m(\u001b[0m\u001b[0;36m2\u001b[0m\u001b[0;34m,\u001b[0m \u001b[0;36m6\u001b[0m\u001b[0;34m)\u001b[0m\u001b[0;34m\u001b[0m\u001b[0;34m\u001b[0m\u001b[0m\n\u001b[1;32m      3\u001b[0m \u001b[0mm62\u001b[0m \u001b[0;34m=\u001b[0m \u001b[0mm26\u001b[0m\u001b[0;34m.\u001b[0m\u001b[0mt\u001b[0m\u001b[0;34m(\u001b[0m\u001b[0;34m)\u001b[0m\u001b[0;34m\u001b[0m\u001b[0;34m\u001b[0m\u001b[0m\n\u001b[0;32m----> 4\u001b[0;31m \u001b[0mm34\u001b[0m \u001b[0;34m=\u001b[0m \u001b[0mm62\u001b[0m\u001b[0;34m.\u001b[0m\u001b[0mview\u001b[0m\u001b[0;34m(\u001b[0m\u001b[0;36m3\u001b[0m\u001b[0;34m,\u001b[0m \u001b[0;36m4\u001b[0m\u001b[0;34m)\u001b[0m \u001b[0;31m# これはエラーになる\u001b[0m\u001b[0;34m\u001b[0m\u001b[0;34m\u001b[0m\u001b[0m\n\u001b[0m",
      "\u001b[0;31mRuntimeError\u001b[0m: view size is not compatible with input tensor's size and stride (at least one dimension spans across two contiguous subspaces). Use .reshape(...) instead."
     ]
    }
   ],
   "source": [
    "v = torch.arange(0, 12)\n",
    "m26 = v.view(2, 6)\n",
    "m62 = m26.t()\n",
    "m34 = m62.view(3, 4) # これはエラーになる"
   ]
  },
  {
   "cell_type": "code",
   "execution_count": null,
   "metadata": {
    "colab": {
     "base_uri": "https://localhost:8080/"
    },
    "id": "AvQRiLG4m3Nq",
    "outputId": "6e4a1fa1-d0ec-4c71-824d-715a5ce4a8c3"
   },
   "outputs": [],
   "source": [
    "v = torch.arange(0, 12)\n",
    "m26 = v.view(2, 6)\n",
    "m62 = m26.t()\n",
    "m62_new = m62.contiguous()\n",
    "m34 = m62_new.view(3, 4) # これはエラーにならない\n",
    "print(m62)\n",
    "print(m34)"
   ]
  },
  {
   "cell_type": "code",
   "execution_count": null,
   "metadata": {
    "colab": {
     "base_uri": "https://localhost:8080/"
    },
    "id": "ktDwmwFym__Q",
    "outputId": "d200c3ae-cf6d-48bb-809a-5a5c9e0ad97a"
   },
   "outputs": [],
   "source": [
    "v = torch.arange(0, 12)\n",
    "m26 = v.view(2, 6)\n",
    "m62 = m26.t()\n",
    "m34 = m62.reshape(3, 4) # reshapeではエラーにならない\n",
    "print(m62)\n",
    "print(m34)"
   ]
  },
  {
   "cell_type": "markdown",
   "metadata": {
    "id": "s8QXyEMqd3qV"
   },
   "source": [
    "### テンソルとその要素のメモリ上での配置\n",
    "* 下のリンク先が詳しい。\n",
    " * https://livebook.manning.com/book/deep-learning-with-pytorch/chapter-3/v-12/198"
   ]
  },
  {
   "cell_type": "code",
   "execution_count": null,
   "metadata": {
    "colab": {
     "base_uri": "https://localhost:8080/",
     "height": 197
    },
    "id": "Kz8s7Hv_c8O5",
    "outputId": "95cfebaa-315a-4769-f709-007b061c8358"
   },
   "outputs": [],
   "source": [
    "m = torch.tensor([[4.0, 1.0], [5.0, 3.0], [2.0, 1.0]])\n",
    "print(m)\n",
    "print(m.storage())"
   ]
  },
  {
   "cell_type": "code",
   "execution_count": null,
   "metadata": {
    "colab": {
     "base_uri": "https://localhost:8080/",
     "height": 179
    },
    "id": "Pl9H1MKLdDmc",
    "outputId": "63a28850-9b17-4412-e0a2-5cc3da765b20"
   },
   "outputs": [],
   "source": [
    "m = torch.tensor([[4.0, 1.0], [5.0, 3.0], [2.0, 1.0]])\n",
    "m = m.t()\n",
    "print(m)\n",
    "print(m.storage())"
   ]
  },
  {
   "cell_type": "markdown",
   "metadata": {
    "id": "kOmNOlTYouJc"
   },
   "source": [
    "## 04-03 テンソルの操作"
   ]
  },
  {
   "cell_type": "markdown",
   "metadata": {
    "id": "b7x8e_cbtFQ8"
   },
   "source": [
    "### 演算"
   ]
  },
  {
   "cell_type": "code",
   "execution_count": null,
   "metadata": {
    "colab": {
     "base_uri": "https://localhost:8080/",
     "height": 107
    },
    "id": "1pUfEhrdtDBq",
    "outputId": "f03e4045-5edc-4f58-95a9-e9af426b3a76"
   },
   "outputs": [],
   "source": [
    "x = torch.rand(5, 3)\n",
    "y = torch.rand(5, 3)\n",
    "print(x + y)"
   ]
  },
  {
   "cell_type": "code",
   "execution_count": null,
   "metadata": {
    "colab": {
     "base_uri": "https://localhost:8080/",
     "height": 107
    },
    "id": "G4peakdFtPDd",
    "outputId": "4afd18f3-b625-4a1a-d135-09152d2ceb5b"
   },
   "outputs": [],
   "source": [
    "print(torch.add(x, y))"
   ]
  },
  {
   "cell_type": "code",
   "execution_count": null,
   "metadata": {
    "colab": {
     "base_uri": "https://localhost:8080/",
     "height": 107
    },
    "id": "Y5if6ThktSoX",
    "outputId": "b836d9c1-54b9-4289-c63b-aa038d061395"
   },
   "outputs": [],
   "source": [
    "result = torch.empty(5, 3)\n",
    "torch.add(x, y, out=result)\n",
    "print(result)"
   ]
  },
  {
   "cell_type": "markdown",
   "metadata": {
    "id": "vrT0mREK-_xK"
   },
   "source": [
    "### NumPyのndarrayからfrom_numpy()でPyTorchのテンソルを作る"
   ]
  },
  {
   "cell_type": "code",
   "execution_count": null,
   "metadata": {
    "colab": {
     "base_uri": "https://localhost:8080/",
     "height": 89
    },
    "id": "kAHQnU5e-TNN",
    "outputId": "5d8a691c-6689-4797-a4b7-a61567c07e84"
   },
   "outputs": [],
   "source": [
    "a = np.zeros(3)\n",
    "t = torch.from_numpy(a)\n",
    "print(a)\n",
    "print(t)\n",
    "\n",
    "# 元のndarrayを変更するとテンソルも変更されることに注意！\n",
    "np.add(a, 1, out=a)\n",
    "print(a)\n",
    "print(t)"
   ]
  },
  {
   "cell_type": "code",
   "execution_count": null,
   "metadata": {
    "colab": {
     "base_uri": "https://localhost:8080/",
     "height": 89
    },
    "id": "zsDubMPx_KMH",
    "outputId": "ea941003-a48d-47a9-d92e-c229311e6d19"
   },
   "outputs": [],
   "source": [
    "t = torch.zeros(3)\n",
    "a = t.numpy()\n",
    "print(t)\n",
    "print(a)\n",
    "\n",
    "t.add_(1)\n",
    "print(t)\n",
    "print(a)"
   ]
  },
  {
   "cell_type": "markdown",
   "metadata": {
    "id": "ReF3qlOh_yfP"
   },
   "source": [
    "### clone()によるテンソルの複製"
   ]
  },
  {
   "cell_type": "code",
   "execution_count": null,
   "metadata": {
    "colab": {
     "base_uri": "https://localhost:8080/",
     "height": 89
    },
    "id": "czJEKEr-_i9S",
    "outputId": "e5beb4d5-d926-47de-a337-873e8a037ebc"
   },
   "outputs": [],
   "source": [
    "t = torch.zeros(3)\n",
    "\n",
    "a = t.clone().numpy()\n",
    "print(t)\n",
    "print(a)\n",
    "\n",
    "t.add_(1) # aは変わらない\n",
    "print(t)\n",
    "print(a)"
   ]
  },
  {
   "cell_type": "markdown",
   "metadata": {
    "id": "aMNweIJMtbl0"
   },
   "source": [
    "### インデクシング\n",
    "* NumPyと同じ。"
   ]
  },
  {
   "cell_type": "code",
   "execution_count": null,
   "metadata": {
    "colab": {
     "base_uri": "https://localhost:8080/",
     "height": 125
    },
    "id": "1Zhf3VU7taY_",
    "outputId": "9ce77b47-f2d9-4924-bab6-912cb7fbaffc"
   },
   "outputs": [],
   "source": [
    "x = torch.rand(5, 3)\n",
    "print(x)\n",
    "print(x[:, 1])"
   ]
  },
  {
   "cell_type": "markdown",
   "metadata": {
    "id": "2zBYJfxFAIe_"
   },
   "source": [
    "### item()とtolist()によるPythonの組み込み型への変換"
   ]
  },
  {
   "cell_type": "code",
   "execution_count": null,
   "metadata": {
    "colab": {
     "base_uri": "https://localhost:8080/",
     "height": 197
    },
    "id": "LhSlf8Cz_7y9",
    "outputId": "d003353b-0c28-4eff-bb69-71d45653588c"
   },
   "outputs": [],
   "source": [
    "s = torch.tensor(1.0)\n",
    "print(s)\n",
    "print(type(s))\n",
    "i = s.item()\n",
    "print(i)\n",
    "print(type(i))\n",
    "print()\n",
    "\n",
    "t = torch.rand(2,2)\n",
    "print(t)\n",
    "print(type(t))\n",
    "l = t.tolist()\n",
    "print(l)\n",
    "print(type(l))"
   ]
  },
  {
   "cell_type": "markdown",
   "metadata": {
    "id": "rZzusZ3FwMir"
   },
   "source": [
    "### GPUへテンソルを持っていく\n",
    "* ランタイムのタイプをGPUへ変更してから下のセルを実行する。"
   ]
  },
  {
   "cell_type": "code",
   "execution_count": null,
   "metadata": {
    "colab": {
     "base_uri": "https://localhost:8080/",
     "height": 323
    },
    "id": "UG9eEPK2wH-v",
    "outputId": "fe307154-6de2-45f3-968d-342997e3bf58"
   },
   "outputs": [],
   "source": [
    "x = torch.rand(5, 3)\n",
    "\n",
    "if torch.cuda.is_available():\n",
    "  device = torch.device(\"cuda\")          # a CUDA device object\n",
    "  y = torch.ones_like(x, device=device)  # directly create a tensor on GPU\n",
    "  x = x.to(device)                       # or just use strings ``.to(\"cuda\")``\n",
    "  z = x + y\n",
    "  print(z)\n",
    "  w = z.to(\"cpu\")\n",
    "  print(w)\n",
    "  print(w.dtype)\n",
    "  w = z.to(\"cpu\", torch.double)\n",
    "  print(w)\n",
    "  print(w.dtype)"
   ]
  },
  {
   "cell_type": "markdown",
   "metadata": {
    "id": "A-m9JrrUAbA4"
   },
   "source": [
    "## 04-04 自動微分"
   ]
  },
  {
   "cell_type": "markdown",
   "metadata": {
    "id": "aE00Ln1DA8fL"
   },
   "source": [
    "### それに関して微分をする変数を作る\n",
    "* requires_gradをTrueにする"
   ]
  },
  {
   "cell_type": "code",
   "execution_count": null,
   "metadata": {
    "colab": {
     "base_uri": "https://localhost:8080/",
     "height": 53
    },
    "id": "HfTNyEQIwzgX",
    "outputId": "0395af67-afd9-4d39-907b-32091e2f11de"
   },
   "outputs": [],
   "source": [
    "x = torch.ones(2, 2, requires_grad=True)\n",
    "print(x)"
   ]
  },
  {
   "cell_type": "code",
   "execution_count": null,
   "metadata": {
    "colab": {
     "base_uri": "https://localhost:8080/",
     "height": 53
    },
    "id": "D-FMUl60w4Mj",
    "outputId": "a559a4e8-be0a-454f-ae28-f1548d05ea6b"
   },
   "outputs": [],
   "source": [
    "y = x + 2\n",
    "print(y)"
   ]
  },
  {
   "cell_type": "markdown",
   "metadata": {
    "id": "kB_aYJRixpjj"
   },
   "source": [
    "### 計算グラフ"
   ]
  },
  {
   "cell_type": "code",
   "execution_count": null,
   "metadata": {
    "colab": {
     "base_uri": "https://localhost:8080/",
     "height": 35
    },
    "id": "g4Oo1I0Tw8j4",
    "outputId": "f72961ab-7ab7-4677-f9e0-a90ee2014b90"
   },
   "outputs": [],
   "source": [
    "print(y.grad_fn)"
   ]
  },
  {
   "cell_type": "code",
   "execution_count": null,
   "metadata": {
    "colab": {
     "base_uri": "https://localhost:8080/",
     "height": 53
    },
    "id": "sCL6pdONxKw1",
    "outputId": "86011b67-360e-442e-b947-bc067c36399d"
   },
   "outputs": [],
   "source": [
    "z = y * y * 4\n",
    "out = z.mean()\n",
    "\n",
    "print(z, out)"
   ]
  },
  {
   "cell_type": "code",
   "execution_count": null,
   "metadata": {
    "colab": {
     "base_uri": "https://localhost:8080/",
     "height": 89
    },
    "id": "ivHDNdMrxPg0",
    "outputId": "c902d104-c267-419c-d66e-f0bdefcf54dc"
   },
   "outputs": [],
   "source": [
    "a = torch.randn(2, 2)\n",
    "a = ((a * 3) / (a - 1))\n",
    "print(a.requires_grad)\n",
    "a.requires_grad_(True)\n",
    "print(a.requires_grad)\n",
    "b = (a * a).sum()\n",
    "print(b.grad_fn)\n",
    "print(b.requires_grad)"
   ]
  },
  {
   "cell_type": "markdown",
   "metadata": {
    "id": "U50NxpxpxzB5"
   },
   "source": [
    "### バックプロパゲーションの実行"
   ]
  },
  {
   "cell_type": "code",
   "execution_count": null,
   "metadata": {
    "colab": {
     "base_uri": "https://localhost:8080/",
     "height": 71
    },
    "id": "vLdQlh6mxxYH",
    "outputId": "269596e3-b766-4323-affb-9a8bf999d416"
   },
   "outputs": [],
   "source": [
    "x = torch.ones(2, 2, requires_grad=True)\n",
    "y = x + 2\n",
    "z = y * y * 4\n",
    "print(z)\n",
    "out = z.mean()\n",
    "print(out)\n",
    "\n",
    "out.backward()"
   ]
  },
  {
   "cell_type": "markdown",
   "metadata": {
    "id": "KFtAMbdvx8l5"
   },
   "source": [
    "### 微分係数"
   ]
  },
  {
   "cell_type": "code",
   "execution_count": null,
   "metadata": {
    "colab": {
     "base_uri": "https://localhost:8080/",
     "height": 53
    },
    "id": "SdgmItfNxyeN",
    "outputId": "c80d94b4-ecbf-4695-8860-9d4cf52fe496"
   },
   "outputs": [],
   "source": [
    "print(x.grad)"
   ]
  },
  {
   "cell_type": "markdown",
   "metadata": {
    "id": "VU2vuVxvy-Kq"
   },
   "source": [
    "### 計算グラフを作らせない"
   ]
  },
  {
   "cell_type": "code",
   "execution_count": null,
   "metadata": {
    "colab": {
     "base_uri": "https://localhost:8080/",
     "height": 107
    },
    "id": "PFZbFjOQy8U-",
    "outputId": "817df1d5-6a2f-4047-d8b8-41052e22f839"
   },
   "outputs": [],
   "source": [
    "x = torch.tensor(3., requires_grad=True)\n",
    "print(x.requires_grad)\n",
    "y = x ** 2\n",
    "print(y.requires_grad)\n",
    "y.backward()\n",
    "print(x.grad)\n",
    "print()\n",
    "\n",
    "with torch.no_grad():\n",
    "  y = x ** 2\n",
    "  print(y.requires_grad)"
   ]
  },
  {
   "cell_type": "code",
   "execution_count": null,
   "metadata": {
    "colab": {
     "base_uri": "https://localhost:8080/",
     "height": 71
    },
    "id": "h2rDU_28zLok",
    "outputId": "1d72cffd-0183-4175-cf56-a87fe352599c"
   },
   "outputs": [],
   "source": [
    "x = torch.tensor(3., requires_grad=True)\n",
    "print(x.requires_grad)\n",
    "y = x.detach()\n",
    "print(y.requires_grad)\n",
    "print(x.eq(y))"
   ]
  },
  {
   "cell_type": "code",
   "execution_count": null,
   "metadata": {
    "colab": {
     "base_uri": "https://localhost:8080/",
     "height": 35
    },
    "id": "BYiICIm2AT28",
    "outputId": "630d18ec-43b8-40b9-9cb4-5c2d3ea4a269"
   },
   "outputs": [],
   "source": [
    "# f(x) = a*x**2 + b*x + cの、x=2におけるxに関する微分係数を求める\n",
    "\n",
    "x = torch.tensor(2.0, requires_grad=True)\n",
    "a = torch.tensor(1.0)\n",
    "b = torch.tensor(-2.0)\n",
    "c = torch.tensor(1.0)\n",
    "\n",
    "y = a * x * x + b * x + c\n",
    "\n",
    "y.backward()\n",
    "print(x.grad)"
   ]
  },
  {
   "cell_type": "markdown",
   "metadata": {
    "id": "3PqN5anRXKd-"
   },
   "source": [
    "### 計算グラフの可視化"
   ]
  },
  {
   "cell_type": "code",
   "execution_count": null,
   "metadata": {
    "colab": {
     "base_uri": "https://localhost:8080/",
     "height": 107
    },
    "id": "UdQtGCKfWejm",
    "outputId": "92eaa2dd-381d-493c-e04f-157f0e3bea78"
   },
   "outputs": [],
   "source": [
    "!pip install torchviz"
   ]
  },
  {
   "cell_type": "code",
   "execution_count": null,
   "metadata": {
    "colab": {
     "base_uri": "https://localhost:8080/",
     "height": 381
    },
    "id": "B-LsTdNcWkp5",
    "outputId": "25df5683-cc8b-44e4-e530-025f922a9d93"
   },
   "outputs": [],
   "source": [
    "from torchviz import make_dot\n",
    "\n",
    "x = torch.tensor([2.0], requires_grad=True)\n",
    "a = torch.tensor([1.0])\n",
    "b = torch.tensor([-2.0])\n",
    "c = torch.tensor([1.0])\n",
    "\n",
    "y = a * torch.pow(x, 2) + b * x + c\n",
    "make_dot(y, params={'x':x})"
   ]
  },
  {
   "cell_type": "markdown",
   "metadata": {
    "id": "G9RBnEz6bkT8"
   },
   "source": [
    "### autograd()を使った高階微分\n",
    "* 第一引数は微分される関数\n",
    "* 第二引数はそれに関して微分する変数\n",
    "* create_graphをTrueにすると計算グラフが作られるので、高階微分を計算できるようになる。"
   ]
  },
  {
   "cell_type": "markdown",
   "metadata": {
    "id": "mvwlRmblpoYh"
   },
   "source": [
    "例1. $y = ax^3 + bx^2 + cx + d$を、$x$について微分"
   ]
  },
  {
   "cell_type": "code",
   "execution_count": null,
   "metadata": {
    "id": "yni32jSLpgwh"
   },
   "outputs": [],
   "source": [
    "x = torch.tensor(0.0, requires_grad=True)\n",
    "a = torch.tensor(1.0)\n",
    "b = torch.tensor(-2.0)\n",
    "c = torch.tensor(1.0)\n",
    "d = torch.tensor(5.0)\n",
    "y = a * torch.pow(x, 3) + b * torch.pow(x, 2) + c * x + d"
   ]
  },
  {
   "cell_type": "code",
   "execution_count": null,
   "metadata": {
    "colab": {
     "base_uri": "https://localhost:8080/"
    },
    "id": "O7Of3KxWpz_3",
    "outputId": "5791b1e7-2135-4cd6-bf90-9d6010fdcf1f"
   },
   "outputs": [],
   "source": [
    "dy_dx = torch.autograd.grad(y, x) #単に微分するだけ\n",
    "print(dy_dx) # 要素が一つだけのtupleになっている\n",
    "print(dy_dx[0].data)"
   ]
  },
  {
   "cell_type": "markdown",
   "metadata": {
    "id": "182AbHtyqWcm"
   },
   "source": [
    "例2. $y=x_1 x_2$を、$x_1$と$x_2$それぞれについて偏微分"
   ]
  },
  {
   "cell_type": "code",
   "execution_count": null,
   "metadata": {
    "id": "4d0exl5BqEYp"
   },
   "outputs": [],
   "source": [
    "x1 = torch.tensor(0.0, requires_grad=True)\n",
    "x2 = torch.tensor(0.0, requires_grad=True)\n",
    "y = x1 * x2"
   ]
  },
  {
   "cell_type": "code",
   "execution_count": null,
   "metadata": {
    "colab": {
     "base_uri": "https://localhost:8080/"
    },
    "id": "MTUSCu6lqxvm",
    "outputId": "d5f61d9f-d24f-4be2-980f-344d3bc2f939"
   },
   "outputs": [],
   "source": [
    "dy_dx = torch.autograd.grad(y, (x1, x2)) # 単に微分するだけ\n",
    "print(dy_dx)"
   ]
  },
  {
   "cell_type": "markdown",
   "metadata": {
    "id": "aLThUJSuqqfi"
   },
   "source": [
    "例3. $y = ax^3 + bx^2 + cx + d$を、$x$について微分し、さらにそれを微分する"
   ]
  },
  {
   "cell_type": "code",
   "execution_count": null,
   "metadata": {
    "id": "Byntago3q5Hl"
   },
   "outputs": [],
   "source": [
    "x = torch.tensor(0.0, requires_grad=True)\n",
    "a = torch.tensor(1.0)\n",
    "b = torch.tensor(-2.0)\n",
    "c = torch.tensor(1.0)\n",
    "d = torch.tensor(5.0)\n",
    "y = a * torch.pow(x, 3) + b * torch.pow(x, 2) + c * x + d"
   ]
  },
  {
   "cell_type": "code",
   "execution_count": null,
   "metadata": {
    "colab": {
     "base_uri": "https://localhost:8080/"
    },
    "id": "n1lr5L5SBOIj",
    "outputId": "7e855924-f90f-49c9-d681-96d246ee5868"
   },
   "outputs": [],
   "source": [
    "# backpropagationの計算の計算グラフを作らせる\n",
    "dy_dx = torch.autograd.grad(y, x, create_graph=True) \n",
    "print(dy_dx)\n",
    "print(dy_dx[0].data)\n",
    "\n",
    "# その計算グラフが表す関数をxで微分\n",
    "d２y_dx2 = torch.autograd.grad(dy_dx, x)\n",
    "print(d2y_dx2)\n",
    "print(d2y_dx2[0].data)"
   ]
  },
  {
   "cell_type": "markdown",
   "metadata": {
    "id": "cZNfPAyHdpVs"
   },
   "source": [
    "### 多変数関数の偏微分とヘシアン"
   ]
  },
  {
   "cell_type": "markdown",
   "metadata": {
    "id": "7KQGlWRRrx9-"
   },
   "source": [
    "例. $y=(x_1+3x_2)^2$のヘシアンを求める"
   ]
  },
  {
   "cell_type": "code",
   "execution_count": null,
   "metadata": {
    "id": "13dhstNSsKi2"
   },
   "outputs": [],
   "source": [
    "def func(x1, x2):\n",
    "  return (x1 + 3 * x2) ** 2\n",
    "\n",
    "x1 = torch.tensor(1.0, requires_grad=True)\n",
    "x2 = torch.tensor(2.0, requires_grad=True)\n",
    "y = func(x1, x2)"
   ]
  },
  {
   "cell_type": "code",
   "execution_count": null,
   "metadata": {},
   "outputs": [],
   "source": [
    "# import torch.nn.functional"
   ]
  },
  {
   "cell_type": "code",
   "execution_count": null,
   "metadata": {},
   "outputs": [],
   "source": [
    "pip install --upgrade torch"
   ]
  },
  {
   "cell_type": "code",
   "execution_count": null,
   "metadata": {},
   "outputs": [],
   "source": [
    "import torch"
   ]
  },
  {
   "cell_type": "code",
   "execution_count": null,
   "metadata": {},
   "outputs": [],
   "source": [
    "print(torch.__version__)"
   ]
  },
  {
   "cell_type": "code",
   "execution_count": null,
   "metadata": {
    "colab": {
     "base_uri": "https://localhost:8080/"
    },
    "id": "VWrfQilec8PE",
    "outputId": "553a28a1-ccdb-488c-86cc-0e0efa8138d4"
   },
   "outputs": [],
   "source": [
    "\n",
    "dy_dx1, dy_dx2 = torch.autograd.grad(y, [x1, x2], create_graph=True)\n",
    "print(dy_dx1.data, dy_dx2.data)\n",
    "d2y_dx1dx1, d2y_dx1dx2 = torch.autograd.grad(dy_dx1, [x1, x2], retain_graph=True)\n",
    "print(d2y_dx1dx1.data, d2y_dx1dx2.data)\n",
    "d2y_dx2dx1, d2y_dx2dx2 = torch.autograd.grad(dy_dx2, [x1, x2])\n",
    "print(d2y_dx2dx1.data, d2y_dx2dx2.data)\n",
    "\n",
    "print(torch.autograd.functional.hessian(func, inputs=(x1, x2)))\n",
    "# print(torch.autograd.function.hessian(func, inputs=(x1, x2)))"
   ]
  },
  {
   "cell_type": "markdown",
   "metadata": {
    "id": "HkBqBy05iNM-"
   },
   "source": [
    "## 04-05 自動微分を使った制約なし最適化"
   ]
  },
  {
   "cell_type": "markdown",
   "metadata": {
    "id": "jTYwK4oFsS1D"
   },
   "source": [
    "例. $f(x)=x^2-2x+1$を最小にする$x$を求める"
   ]
  },
  {
   "cell_type": "code",
   "execution_count": 71,
   "metadata": {
    "id": "xag69ntVsdZM"
   },
   "outputs": [],
   "source": [
    "# 関数の定義\n",
    "def f(x, a=1.0, b=-2.0, c=1.0):\n",
    "  return a * torch.pow(x, 2) + b * x + c"
   ]
  },
  {
   "cell_type": "code",
   "execution_count": 72,
   "metadata": {
    "id": "HsE2vqbKsgqi"
   },
   "outputs": [],
   "source": [
    "# テンソルの準備\n",
    "x = torch.tensor(10.0, requires_grad=True)\n",
    "\n",
    "# 最適化手法のインスタンスを作る\n",
    "#   param: どの変数で微分するか\n",
    "#   lr: 学習率\n",
    "optimizer = torch.optim.SGD(params=[x], lr=0.1)"
   ]
  },
  {
   "cell_type": "code",
   "execution_count": 73,
   "metadata": {
    "colab": {
     "base_uri": "https://localhost:8080/"
    },
    "id": "Z8rOcDFviTVp",
    "outputId": "8ba88856-e959-47b6-f7ed-96e60bcbfa70"
   },
   "outputs": [
    {
     "name": "stdout",
     "output_type": "stream",
     "text": [
      "iter 5 : f(x) = 13.589545, x = 3.949120\n",
      "iter 10 : f(x) = 1.459167, x = 1.966368\n",
      "iter 15 : f(x) = 0.156677, x = 1.316659\n",
      "iter 20 : f(x) = 0.016823, x = 1.103763\n",
      "iter 25 : f(x) = 0.001806, x = 1.034001\n",
      "iter 30 : f(x) = 0.000194, x = 1.011142\n",
      "iter 35 : f(x) = 0.000021, x = 1.003651\n",
      "iter 40 : f(x) = 0.000002, x = 1.001196\n",
      "iter 45 : f(x) = 0.000000, x = 1.000392\n",
      "iter 50 : f(x) = 0.000000, x = 1.000128\n",
      "iter 55 : f(x) = 0.000000, x = 1.000042\n",
      "iter 60 : f(x) = 0.000000, x = 1.000014\n",
      "iter 65 : f(x) = 0.000000, x = 1.000005\n",
      "iter 70 : f(x) = 0.000000, x = 1.000001\n",
      "iter 75 : f(x) = 0.000000, x = 1.000000\n",
      "iter 80 : f(x) = 0.000000, x = 1.000000\n",
      "iter 85 : f(x) = 0.000000, x = 1.000000\n",
      "iter 90 : f(x) = 0.000000, x = 1.000000\n",
      "iter 95 : f(x) = 0.000000, x = 1.000000\n",
      "iter 100 : f(x) = 0.000000, x = 1.000000\n"
     ]
    }
   ],
   "source": [
    "for i in range(1, 101):\n",
    "  optimizer.zero_grad()\n",
    "  y = f(x)\n",
    "  y.backward()\n",
    "  optimizer.step()\n",
    "  if i % 5 == 0:\n",
    "    print(f'iter {i} : f(x) = {y.data:.6f}, x = {x.data:.6f}')"
   ]
  },
  {
   "cell_type": "markdown",
   "metadata": {
    "id": "y_74bIGBkIib"
   },
   "source": [
    "# 課題4\n",
    "* 関数$f(x_1,x_2)=x_1^2+x_2^2$の最小値と、$f(x_1,x_2)$がその最小値をとるときの$x_1$と$x_2$の値を、PyTorchの自動微分を使って求めよう。"
   ]
  },
  {
   "cell_type": "code",
   "execution_count": 74,
   "metadata": {},
   "outputs": [],
   "source": [
    "# 関数の定義\n",
    "def f(x1, x2, a=1.0, b=1.0):\n",
    "  return a * torch.pow(x1, 2) + b * torch.pow(x2,2)"
   ]
  },
  {
   "cell_type": "code",
   "execution_count": 79,
   "metadata": {},
   "outputs": [],
   "source": [
    "# テンソルの準備\n",
    "x1 = torch.tensor(10.0, requires_grad=True)\n",
    "x2 = torch.tensor(10.0, requires_grad=True)\n",
    "\n",
    "# 最適化手法のインスタンスを作る\n",
    "#   param: どの変数で微分するか\n",
    "#   lr: 学習率\n",
    "optimizer = torch.optim.SGD(params=[x1, x2], lr=0.1)"
   ]
  },
  {
   "cell_type": "code",
   "execution_count": 80,
   "metadata": {},
   "outputs": [
    {
     "name": "stdout",
     "output_type": "stream",
     "text": [
      "iter 5 : f(x) = 33.554428, x1 = 3.276800, x2 = 3.276800\n",
      "iter 10 : f(x) = 3.602879, x1 = 1.073742, x2 = 1.073742\n",
      "iter 15 : f(x) = 0.386856, x1 = 0.351844, x2 = 0.351844\n",
      "iter 20 : f(x) = 0.041538, x1 = 0.115292, x2 = 0.115292\n",
      "iter 25 : f(x) = 0.004460, x1 = 0.037779, x2 = 0.037779\n",
      "iter 30 : f(x) = 0.000479, x1 = 0.012379, x2 = 0.012379\n",
      "iter 35 : f(x) = 0.000051, x1 = 0.004056, x2 = 0.004056\n",
      "iter 40 : f(x) = 0.000006, x1 = 0.001329, x2 = 0.001329\n",
      "iter 45 : f(x) = 0.000001, x1 = 0.000436, x2 = 0.000436\n",
      "iter 50 : f(x) = 0.000000, x1 = 0.000143, x2 = 0.000143\n",
      "iter 55 : f(x) = 0.000000, x1 = 0.000047, x2 = 0.000047\n",
      "iter 60 : f(x) = 0.000000, x1 = 0.000015, x2 = 0.000015\n",
      "iter 65 : f(x) = 0.000000, x1 = 0.000005, x2 = 0.000005\n",
      "iter 70 : f(x) = 0.000000, x1 = 0.000002, x2 = 0.000002\n",
      "iter 75 : f(x) = 0.000000, x1 = 0.000001, x2 = 0.000001\n",
      "iter 80 : f(x) = 0.000000, x1 = 0.000000, x2 = 0.000000\n",
      "iter 85 : f(x) = 0.000000, x1 = 0.000000, x2 = 0.000000\n",
      "iter 90 : f(x) = 0.000000, x1 = 0.000000, x2 = 0.000000\n",
      "iter 95 : f(x) = 0.000000, x1 = 0.000000, x2 = 0.000000\n",
      "iter 100 : f(x) = 0.000000, x1 = 0.000000, x2 = 0.000000\n"
     ]
    }
   ],
   "source": [
    "for i in range(1, 101):\n",
    "  optimizer.zero_grad()\n",
    "  y = f(x1,x2)\n",
    "  y.backward()\n",
    "  optimizer.step()\n",
    "  if i % 5 == 0:\n",
    "    print(f'iter {i} : f(x) = {y.data:.6f}, x1 = {x1.data:.6f}, x2 = {x2.data:.6f}')"
   ]
  },
  {
   "cell_type": "code",
   "execution_count": null,
   "metadata": {},
   "outputs": [],
   "source": []
  },
  {
   "cell_type": "code",
   "execution_count": null,
   "metadata": {},
   "outputs": [],
   "source": []
  }
 ],
 "metadata": {
  "accelerator": "GPU",
  "colab": {
   "authorship_tag": "ABX9TyMDkqx8868DE0XQftcaFpvV",
   "collapsed_sections": [],
   "include_colab_link": true,
   "name": "04_PyTorch_1.ipynb",
   "provenance": []
  },
  "kernelspec": {
   "display_name": "Python 3",
   "language": "python",
   "name": "python3"
  },
  "language_info": {
   "codemirror_mode": {
    "name": "ipython",
    "version": 3
   },
   "file_extension": ".py",
   "mimetype": "text/x-python",
   "name": "python",
   "nbconvert_exporter": "python",
   "pygments_lexer": "ipython3",
   "version": "3.7.6"
  },
  "varInspector": {
   "cols": {
    "lenName": 16,
    "lenType": 16,
    "lenVar": 40
   },
   "kernels_config": {
    "python": {
     "delete_cmd_postfix": "",
     "delete_cmd_prefix": "del ",
     "library": "var_list.py",
     "varRefreshCmd": "print(var_dic_list())"
    },
    "r": {
     "delete_cmd_postfix": ") ",
     "delete_cmd_prefix": "rm(",
     "library": "var_list.r",
     "varRefreshCmd": "cat(var_dic_list()) "
    }
   },
   "types_to_exclude": [
    "module",
    "function",
    "builtin_function_or_method",
    "instance",
    "_Feature"
   ],
   "window_display": false
  }
 },
 "nbformat": 4,
 "nbformat_minor": 1
}
