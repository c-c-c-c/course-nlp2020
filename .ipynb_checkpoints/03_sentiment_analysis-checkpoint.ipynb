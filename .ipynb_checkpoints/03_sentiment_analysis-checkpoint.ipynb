{
 "cells": [
  {
   "cell_type": "markdown",
   "metadata": {
    "colab_type": "text",
    "id": "view-in-github"
   },
   "source": [
    "<a href=\"https://colab.research.google.com/github/tomonari-masada/course-nlp2020/blob/master/03_sentiment_analysis.ipynb\" target=\"_parent\"><img src=\"https://colab.research.google.com/assets/colab-badge.svg\" alt=\"Open In Colab\"/></a>"
   ]
  },
  {
   "cell_type": "markdown",
   "metadata": {
    "colab_type": "text",
    "id": "oo-mY9Lf_9NT"
   },
   "source": [
    "# 03 単語埋め込みを使った感情分析\n",
    "* IMDbデータで感情分析をおこなう。\n",
    "* fastTextを使ってまず単語埋め込みを得て、そして、単語埋め込みベクトルの平均として文書埋め込みベクトルを求めたデータを使う。\n",
    "* 分類には古典的な機械学習の手法を使う。"
   ]
  },
  {
   "cell_type": "code",
   "execution_count": null,
   "metadata": {
    "colab": {},
    "colab_type": "code",
    "id": "xPV5rjYhASM6"
   },
   "outputs": [],
   "source": [
    "import numpy as np"
   ]
  },
  {
   "cell_type": "markdown",
   "metadata": {
    "colab_type": "text",
    "id": "cswS9fn5BHd1"
   },
   "source": [
    "### データファイルを保存してあるGoogle Driveのデイレクトリを指定する"
   ]
  },
  {
   "cell_type": "code",
   "execution_count": null,
   "metadata": {
    "colab": {},
    "colab_type": "code",
    "id": "LwvTG5ac_3KG"
   },
   "outputs": [],
   "source": [
    "PATH = '/content/drive/My Drive/2020Courses/NLP/'"
   ]
  },
  {
   "cell_type": "markdown",
   "metadata": {
    "colab_type": "text",
    "id": "Ix1kFwt-BNR3"
   },
   "source": [
    "### データを読み込む\n",
    "* データは文書埋め込みと文書ラベル（0か1）からなる。"
   ]
  },
  {
   "cell_type": "code",
   "execution_count": null,
   "metadata": {
    "colab": {},
    "colab_type": "code",
    "id": "Yq3DxOR5AIg4"
   },
   "outputs": [],
   "source": [
    "texts = dict()\n",
    "labels = dict()\n",
    "for tag in ['train', 'valid', 'test']:\n",
    "  with open(f'{PATH}{tag}.npy', 'rb') as f:\n",
    "    texts[tag] = np.load(f)\n",
    "  with open(f'{PATH}{tag}_labels.npy', 'rb') as f:\n",
    "    labels[tag] = np.load(f)"
   ]
  },
  {
   "cell_type": "code",
   "execution_count": null,
   "metadata": {
    "colab": {
     "base_uri": "https://localhost:8080/",
     "height": 67
    },
    "colab_type": "code",
    "id": "Mx7UQSGIAQWo",
    "outputId": "58a895d1-4e18-4e12-a6ec-61ad712d648e"
   },
   "outputs": [
    {
     "name": "stdout",
     "output_type": "stream",
     "text": [
      "(20000, 300)\n",
      "(5000, 300)\n",
      "(25000, 300)\n"
     ]
    }
   ],
   "source": [
    "for tag in ['train', 'valid', 'test']:\n",
    "  print(texts[tag].shape)"
   ]
  },
  {
   "cell_type": "markdown",
   "metadata": {
    "colab_type": "text",
    "id": "j6nhT1XhBVDk"
   },
   "source": [
    "### scikit-learnのLinearSVCを使う\n",
    "* 各自、他の分類器も試す。"
   ]
  },
  {
   "cell_type": "code",
   "execution_count": null,
   "metadata": {
    "colab": {},
    "colab_type": "code",
    "id": "56CHYI2EAYZy"
   },
   "outputs": [],
   "source": [
    "from sklearn.svm import LinearSVC"
   ]
  },
  {
   "cell_type": "markdown",
   "metadata": {
    "colab_type": "text",
    "id": "sMqFa-D-BeP6"
   },
   "source": [
    "### 正則化パラメータCをチューニングする"
   ]
  },
  {
   "cell_type": "code",
   "execution_count": null,
   "metadata": {
    "colab": {
     "base_uri": "https://localhost:8080/",
     "height": 255
    },
    "colab_type": "code",
    "id": "wI7rEJKKAc1q",
    "outputId": "68b92110-9763-493f-b3a9-f3fe029dda27"
   },
   "outputs": [
    {
     "name": "stdout",
     "output_type": "stream",
     "text": [
      "# C=0.01: 0.7244\n",
      "# C=0.1: 0.8164\n",
      "# C=1.0: 0.8548\n",
      "# C=10.0: 0.8658\n",
      "# C=100.0: 0.8644\n",
      "# C=1000.0: "
     ]
    },
    {
     "name": "stderr",
     "output_type": "stream",
     "text": [
      "/usr/local/lib/python3.6/dist-packages/sklearn/svm/_base.py:947: ConvergenceWarning: Liblinear failed to converge, increase the number of iterations.\n",
      "  \"the number of iterations.\", ConvergenceWarning)\n"
     ]
    },
    {
     "name": "stdout",
     "output_type": "stream",
     "text": [
      "0.7734\n",
      "# C=10000.0: "
     ]
    },
    {
     "name": "stderr",
     "output_type": "stream",
     "text": [
      "/usr/local/lib/python3.6/dist-packages/sklearn/svm/_base.py:947: ConvergenceWarning: Liblinear failed to converge, increase the number of iterations.\n",
      "  \"the number of iterations.\", ConvergenceWarning)\n"
     ]
    },
    {
     "name": "stdout",
     "output_type": "stream",
     "text": [
      "0.7854\n"
     ]
    },
    {
     "name": "stderr",
     "output_type": "stream",
     "text": [
      "/usr/local/lib/python3.6/dist-packages/sklearn/svm/_base.py:947: ConvergenceWarning: Liblinear failed to converge, increase the number of iterations.\n",
      "  \"the number of iterations.\", ConvergenceWarning)\n"
     ]
    }
   ],
   "source": [
    "for C in 10. ** np.arange(-2, 5):\n",
    "    print(f'# C={C}:', end=' ', flush=True)\n",
    "    svm = LinearSVC(C=C)\n",
    "    svm.fit(texts['train'], labels['train'])\n",
    "    print(f\"{svm.score(texts['valid'], labels['valid'])}\")"
   ]
  },
  {
   "cell_type": "code",
   "execution_count": null,
   "metadata": {
    "colab": {
     "base_uri": "https://localhost:8080/",
     "height": 34
    },
    "colab_type": "code",
    "id": "3hDmny41Ag3u",
    "outputId": "0bedd858-f049-456d-bef7-5c7fcfc6a3bd"
   },
   "outputs": [
    {
     "name": "stdout",
     "output_type": "stream",
     "text": [
      "test score: 0.85744\n"
     ]
    }
   ],
   "source": [
    "svm = LinearSVC(C=10.0)\n",
    "svm.fit(texts['train'], labels['train'])\n",
    "print(f\"test score: {svm.score(texts['test'], labels['test'])}\")"
   ]
  },
  {
   "cell_type": "code",
   "execution_count": null,
   "metadata": {
    "colab": {},
    "colab_type": "code",
    "id": "rO1FO6WPBwKO"
   },
   "outputs": [],
   "source": []
  }
 ],
 "metadata": {
  "colab": {
   "authorship_tag": "ABX9TyNTVrT8HEeDl0cpyRQInxW2",
   "collapsed_sections": [],
   "include_colab_link": true,
   "mount_file_id": "1N4lKbEeHtRTAvV47AjDDqnaHul1tGFxh",
   "name": "03_sentiment_analysis.ipynb",
   "provenance": []
  },
  "kernelspec": {
   "display_name": "Python 3",
   "language": "python",
   "name": "python3"
  },
  "language_info": {
   "codemirror_mode": {
    "name": "ipython",
    "version": 3
   },
   "file_extension": ".py",
   "mimetype": "text/x-python",
   "name": "python",
   "nbconvert_exporter": "python",
   "pygments_lexer": "ipython3",
   "version": "3.7.6"
  },
  "varInspector": {
   "cols": {
    "lenName": 16,
    "lenType": 16,
    "lenVar": 40
   },
   "kernels_config": {
    "python": {
     "delete_cmd_postfix": "",
     "delete_cmd_prefix": "del ",
     "library": "var_list.py",
     "varRefreshCmd": "print(var_dic_list())"
    },
    "r": {
     "delete_cmd_postfix": ") ",
     "delete_cmd_prefix": "rm(",
     "library": "var_list.r",
     "varRefreshCmd": "cat(var_dic_list()) "
    }
   },
   "types_to_exclude": [
    "module",
    "function",
    "builtin_function_or_method",
    "instance",
    "_Feature"
   ],
   "window_display": false
  }
 },
 "nbformat": 4,
 "nbformat_minor": 1
}
