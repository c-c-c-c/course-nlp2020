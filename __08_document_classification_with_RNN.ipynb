{
 "cells": [
  {
   "cell_type": "markdown",
   "metadata": {
    "colab_type": "text",
    "id": "view-in-github"
   },
   "source": [
    "<a href=\"https://colab.research.google.com/github/tomonari-masada/course-nlp2020/blob/master/08_document_classification_with_RNN.ipynb\" target=\"_parent\"><img src=\"https://colab.research.google.com/assets/colab-badge.svg\" alt=\"Open In Colab\"/></a>"
   ]
  },
  {
   "cell_type": "code",
   "execution_count": 1,
   "metadata": {
    "colab": {},
    "colab_type": "code",
    "id": "2VicF1RrhJfa"
   },
   "outputs": [],
   "source": [
    "import random\n",
    "import time\n",
    "import torch\n",
    "import torch.nn as nn\n",
    "import torch.optim as optim\n",
    "import torch.nn.functional as F\n",
    "from torchtext import data\n",
    "from torchtext import datasets\n",
    "from torchtext.data import Field, BucketIterator\n",
    "\n",
    "SEED = 123\n",
    "\n",
    "random.seed(SEED)\n",
    "torch.manual_seed(SEED)\n",
    "torch.cuda.manual_seed(SEED)\n",
    "torch.backends.cudnn.deterministic = True"
   ]
  },
  {
   "cell_type": "code",
   "execution_count": 2,
   "metadata": {
    "colab": {},
    "colab_type": "code",
    "id": "jug86Tt9hMMD"
   },
   "outputs": [],
   "source": [
    "TEXT = Field(tokenize = \"spacy\",\n",
    "            init_token = '<sos>',\n",
    "            eos_token = '<eos>',\n",
    "            lower = True)\n",
    "LABEL = data.LabelField()"
   ]
  },
  {
   "cell_type": "code",
   "execution_count": 3,
   "metadata": {
    "colab": {},
    "colab_type": "code",
    "id": "bj6XmwLXhVKv"
   },
   "outputs": [],
   "source": [
    "train_valid_data, test_data = datasets.IMDB.splits(TEXT, LABEL)"
   ]
  },
  {
   "cell_type": "code",
   "execution_count": 4,
   "metadata": {
    "colab": {
     "base_uri": "https://localhost:8080/",
     "height": 67
    },
    "colab_type": "code",
    "id": "72Xd-UDohXcx",
    "outputId": "ca21f917-4ab9-40ba-c609-5ebd24516a22"
   },
   "outputs": [
    {
     "name": "stdout",
     "output_type": "stream",
     "text": [
      "Number of training examples: 20000\n",
      "Number of validation examples: 5000\n",
      "Number of testing examples: 25000\n"
     ]
    }
   ],
   "source": [
    "train_data, valid_data = train_valid_data.split(split_ratio=0.8, random_state = random.seed(SEED))\n",
    "print(f'Number of training examples: {len(train_data)}')\n",
    "print(f'Number of validation examples: {len(valid_data)}')\n",
    "print(f'Number of testing examples: {len(test_data)}')"
   ]
  },
  {
   "cell_type": "code",
   "execution_count": 5,
   "metadata": {
    "colab": {
     "base_uri": "https://localhost:8080/",
     "height": 50
    },
    "colab_type": "code",
    "id": "zblGelVrheSs",
    "outputId": "53ee17e5-947c-4a12-8e7e-4b73d5f29b28"
   },
   "outputs": [
    {
     "name": "stdout",
     "output_type": "stream",
     "text": [
      "Unique tokens in TEXT vocabulary: 25004\n",
      "Unique tokens in LABEL vocabulary: 2\n"
     ]
    }
   ],
   "source": [
    "MAX_VOCAB_SIZE = 25000\n",
    "\n",
    "TEXT.build_vocab(train_data, max_size=MAX_VOCAB_SIZE)\n",
    "LABEL.build_vocab(train_data)\n",
    "print(f\"Unique tokens in TEXT vocabulary: {len(TEXT.vocab)}\")\n",
    "print(f\"Unique tokens in LABEL vocabulary: {len(LABEL.vocab)}\")"
   ]
  },
  {
   "cell_type": "code",
   "execution_count": 6,
   "metadata": {
    "colab": {
     "base_uri": "https://localhost:8080/",
     "height": 34
    },
    "colab_type": "code",
    "id": "2rEsKP_u3fVu",
    "outputId": "8ec68c98-79a9-428e-aded-f6be390ddb9f"
   },
   "outputs": [
    {
     "name": "stdout",
     "output_type": "stream",
     "text": [
      "['<unk>', '<pad>', '<sos>', '<eos>', 'the', ',', '.', 'and', 'a', 'of']\n"
     ]
    }
   ],
   "source": [
    "print(TEXT.vocab.itos[:10])"
   ]
  },
  {
   "cell_type": "code",
   "execution_count": 7,
   "metadata": {
    "colab": {
     "base_uri": "https://localhost:8080/",
     "height": 54
    },
    "colab_type": "code",
    "id": "Kyr7J_E4hg6V",
    "outputId": "5eeb9dac-14a8-49ec-be13-a8552f813779"
   },
   "outputs": [
    {
     "name": "stdout",
     "output_type": "stream",
     "text": [
      "[('the', 263353), (',', 220515), ('.', 189706), ('and', 130737), ('a', 129741), ('of', 116262), ('to', 108619), ('is', 87772), ('it', 74780), ('in', 74341), ('i', 66293), ('this', 58689), ('that', 58620), ('\"', 50102), (\"'s\", 49819), ('-', 42239), ('/><br', 40900), ('was', 40501), ('as', 37056), ('with', 35260)]\n"
     ]
    }
   ],
   "source": [
    "print(TEXT.vocab.freqs.most_common(20))"
   ]
  },
  {
   "cell_type": "code",
   "execution_count": 8,
   "metadata": {
    "colab": {},
    "colab_type": "code",
    "id": "5fXYLKJvkX1m"
   },
   "outputs": [],
   "source": [
    "device = torch.device('cuda' if torch.cuda.is_available() else 'cpu')"
   ]
  },
  {
   "cell_type": "code",
   "execution_count": 9,
   "metadata": {
    "colab": {},
    "colab_type": "code",
    "id": "qZKysnlAhjGS"
   },
   "outputs": [],
   "source": [
    "BATCH_SIZE = 100\n",
    "\n",
    "train_iterator, valid_iterator, test_iterator = data.BucketIterator.splits(\n",
    "    (train_data, valid_data, test_data),\n",
    "    batch_size=BATCH_SIZE,\n",
    "    device=device)"
   ]
  },
  {
   "cell_type": "code",
   "execution_count": 10,
   "metadata": {
    "colab": {},
    "colab_type": "code",
    "id": "W_3KWMr4hwxl"
   },
   "outputs": [],
   "source": [
    "INPUT_DIM = len(TEXT.vocab)\n",
    "NUM_CLASS = len(LABEL.vocab)\n",
    "EMBED_DIM = 64\n",
    "HIDDEN_DIM = 64\n",
    "PAD_IDX = TEXT.vocab.stoi[TEXT.pad_token]"
   ]
  },
  {
   "cell_type": "markdown",
   "metadata": {
    "colab_type": "text",
    "id": "FlrQK9hh2_KN"
   },
   "source": [
    "### 念のためモデルを定義する前に埋め込み層の動作を確認\n",
    "* padding用のトークンがどのように埋め込まれるかを確認。\n",
    "* また、埋め込み層を通ったあとにミニバッチの形がどうなるかを確認。"
   ]
  },
  {
   "cell_type": "code",
   "execution_count": 11,
   "metadata": {
    "colab": {},
    "colab_type": "code",
    "id": "HK1k_4oQLS54"
   },
   "outputs": [],
   "source": [
    "embed = nn.Embedding(INPUT_DIM, EMBED_DIM, padding_idx=PAD_IDX).to(device)"
   ]
  },
  {
   "cell_type": "code",
   "execution_count": 12,
   "metadata": {
    "colab": {
     "base_uri": "https://localhost:8080/",
     "height": 84
    },
    "colab_type": "code",
    "id": "DQHlxKpohxQY",
    "outputId": "a16e317b-23b9-46b2-fbf4-b35006da77f1"
   },
   "outputs": [
    {
     "name": "stdout",
     "output_type": "stream",
     "text": [
      "\n",
      "[torchtext.data.batch.Batch of size 100]\n",
      "\t[.text]:[torch.cuda.LongTensor of size 1991x100 (GPU 0)]\n",
      "\t[.label]:[torch.cuda.LongTensor of size 100 (GPU 0)]\n"
     ]
    }
   ],
   "source": [
    "for batch in valid_iterator:\n",
    "  pass\n",
    "print(batch)"
   ]
  },
  {
   "cell_type": "code",
   "execution_count": 13,
   "metadata": {
    "colab": {
     "base_uri": "https://localhost:8080/",
     "height": 34
    },
    "colab_type": "code",
    "id": "teSjeZJGMVGo",
    "outputId": "1a6c4527-0077-4bbb-a7ae-79c225807da5"
   },
   "outputs": [
    {
     "data": {
      "text/plain": [
       "torch.Size([1991, 100, 64])"
      ]
     },
     "execution_count": 13,
     "metadata": {
      "tags": []
     },
     "output_type": "execute_result"
    }
   ],
   "source": [
    "embed(batch.text).shape"
   ]
  },
  {
   "cell_type": "code",
   "execution_count": 14,
   "metadata": {
    "colab": {},
    "colab_type": "code",
    "id": "r1wcVHcmg9KI"
   },
   "outputs": [],
   "source": [
    "class RNNTextSentiment(nn.Module):\n",
    "  def __init__(self, emb_dim, hid_dim,\n",
    "               num_class, vocab_size, padding_idx, p=0.0):\n",
    "    super().__init__()\n",
    "\n",
    "    self.input_dim = vocab_size\n",
    "    self.emb_dim = emb_dim\n",
    "    self.hid_dim = hid_dim\n",
    "    self.dropout = p\n",
    "\n",
    "    self.embedding = nn.Embedding(vocab_size, emb_dim, padding_idx=padding_idx)\n",
    "    self.rnn = nn.LSTM(emb_dim, hid_dim)\n",
    "    self.fc = nn.Linear(hid_dim * 2, num_class)\n",
    "    self.dropout = nn.Dropout(p=p)\n",
    "\n",
    "  def forward(self, src):\n",
    "    # srcの形は[単語列長, バッチサイズ]\n",
    "\n",
    "    embedded = self.dropout(self.embedding(src))\n",
    "    # embeddedの形は[単語列長, バッチサイズ, 埋め込み次元数]\n",
    "\n",
    "    outputs, (hidden, _) = self.rnn(embedded)\n",
    "    # outputsの形は[単語列長, バッチサイズ, 隠れ状態の次元数]\n",
    "    # hiddenの形は[1, バッチサイズ, 隠れ状態の次元数]\n",
    "\n",
    "    mean_outputs = outputs.mean(0)\n",
    "    hidden = hidden.squeeze()\n",
    "    # mean_outputsの形は[バッチサイズ, 隠れ状態の次元数]\n",
    "    # hiddenの形は[バッチサイズ, 隠れ状態の次元数]\n",
    "    output = self.fc(torch.cat((mean_outputs, hidden), dim=1))\n",
    "\n",
    "    return output"
   ]
  },
  {
   "cell_type": "code",
   "execution_count": 15,
   "metadata": {
    "colab": {},
    "colab_type": "code",
    "id": "r0nkUyLx3xDZ"
   },
   "outputs": [],
   "source": [
    "def init_weights(m):\n",
    "  for name, param in m.named_parameters():\n",
    "    if 'weight' in name:\n",
    "      nn.init.normal_(param.data, mean=0, std=0.01)\n",
    "    else:\n",
    "      nn.init.constant_(param.data, 0)"
   ]
  },
  {
   "cell_type": "code",
   "execution_count": 16,
   "metadata": {
    "colab": {},
    "colab_type": "code",
    "id": "GuW6ghef34R4"
   },
   "outputs": [],
   "source": [
    "model = RNNTextSentiment(EMBED_DIM, HIDDEN_DIM, NUM_CLASS, INPUT_DIM,\n",
    "                         padding_idx=PAD_IDX, p=0.5).to(device)"
   ]
  },
  {
   "cell_type": "code",
   "execution_count": 17,
   "metadata": {
    "colab": {
     "base_uri": "https://localhost:8080/",
     "height": 118
    },
    "colab_type": "code",
    "id": "UnUstTZe4X2x",
    "outputId": "64e3d872-ff0b-4fcc-efdd-558a02512762"
   },
   "outputs": [
    {
     "data": {
      "text/plain": [
       "RNNTextSentiment(\n",
       "  (embedding): Embedding(25004, 64, padding_idx=1)\n",
       "  (rnn): LSTM(64, 64)\n",
       "  (fc): Linear(in_features=128, out_features=2, bias=True)\n",
       "  (dropout): Dropout(p=0.5, inplace=False)\n",
       ")"
      ]
     },
     "execution_count": 17,
     "metadata": {
      "tags": []
     },
     "output_type": "execute_result"
    }
   ],
   "source": [
    "model.apply(init_weights)"
   ]
  },
  {
   "cell_type": "code",
   "execution_count": 18,
   "metadata": {
    "colab": {},
    "colab_type": "code",
    "id": "QaEbLC9T4pxb"
   },
   "outputs": [],
   "source": [
    "optimizer = optim.Adam(model.parameters(), lr=0.001)"
   ]
  },
  {
   "cell_type": "code",
   "execution_count": 19,
   "metadata": {
    "colab": {
     "base_uri": "https://localhost:8080/",
     "height": 34
    },
    "colab_type": "code",
    "id": "h06O037X4vRV",
    "outputId": "d728546f-b625-42a3-bee9-958eef235303"
   },
   "outputs": [
    {
     "name": "stdout",
     "output_type": "stream",
     "text": [
      "The model has 1,633,794 trainable parameters\n"
     ]
    }
   ],
   "source": [
    "def count_parameters(model):\n",
    "  return sum(p.numel() for p in model.parameters() if p.requires_grad)\n",
    "\n",
    "print(f'The model has {count_parameters(model):,} trainable parameters')"
   ]
  },
  {
   "cell_type": "code",
   "execution_count": 20,
   "metadata": {
    "colab": {},
    "colab_type": "code",
    "id": "P5w-1q7u47Ax"
   },
   "outputs": [],
   "source": [
    "criterion = nn.CrossEntropyLoss().to(device)"
   ]
  },
  {
   "cell_type": "code",
   "execution_count": 21,
   "metadata": {
    "colab": {},
    "colab_type": "code",
    "id": "gg1tuw6y4-Or"
   },
   "outputs": [],
   "source": [
    "def train(model, iterator, optimizer, criterion, clip):\n",
    "  model.train()\n",
    "\n",
    "  epoch_loss = 0\n",
    "  epoch_acc = 0\n",
    "  for batch in iterator:\n",
    "\n",
    "    optimizer.zero_grad()\n",
    "    output = model(batch.text)\n",
    "    loss = criterion(output, batch.label)\n",
    "    loss.backward()\n",
    "\n",
    "    nn.utils.clip_grad_norm_(model.parameters(), clip)\n",
    "    optimizer.step()\n",
    "\n",
    "    epoch_loss += loss.item()\n",
    "    epoch_acc += (output.argmax(1) == batch.label).sum().item()\n",
    "\n",
    "  return epoch_loss / len(iterator), epoch_acc / len(iterator.dataset)"
   ]
  },
  {
   "cell_type": "code",
   "execution_count": 22,
   "metadata": {
    "colab": {},
    "colab_type": "code",
    "id": "2qmfP-By5fOm"
   },
   "outputs": [],
   "source": [
    "def evaluate(model, iterator, criterion):\n",
    "  model.eval()\n",
    "\n",
    "  epoch_loss = 0\n",
    "  epoch_acc = 0\n",
    "  with torch.no_grad():\n",
    "    for batch in iterator:\n",
    "      output = model(batch.text)\n",
    "      loss = criterion(output, batch.label)\n",
    "      epoch_loss += loss.item()\n",
    "      epoch_acc += (output.argmax(1) == batch.label).sum().item()\n",
    "\n",
    "  return epoch_loss / len(iterator), epoch_acc / len(iterator.dataset)"
   ]
  },
  {
   "cell_type": "code",
   "execution_count": 23,
   "metadata": {
    "colab": {},
    "colab_type": "code",
    "id": "xcPnwzJz5rnV"
   },
   "outputs": [],
   "source": [
    "def epoch_time(start_time, end_time):\n",
    "  elapsed_time = end_time - start_time\n",
    "  elapsed_mins = int(elapsed_time / 60)\n",
    "  elapsed_secs = int(elapsed_time - (elapsed_mins * 60))\n",
    "  return elapsed_mins, elapsed_secs"
   ]
  },
  {
   "cell_type": "code",
   "execution_count": 24,
   "metadata": {
    "colab": {
     "base_uri": "https://localhost:8080/",
     "height": 521
    },
    "colab_type": "code",
    "id": "ioV2XRKG5tf-",
    "outputId": "52d0fdcf-d24c-4ee6-bf6e-9cc07a90b8bf"
   },
   "outputs": [
    {
     "name": "stdout",
     "output_type": "stream",
     "text": [
      "Epoch: 1  | time in 0 minutes, 11 seconds\n",
      "\tLoss: 0.5937(train)\t|\tAcc: 67.1%(train)\n",
      "\tLoss: 0.4733(valid)\t|\tAcc: 78.9%(valid)\n",
      "Epoch: 2  | time in 0 minutes, 11 seconds\n",
      "\tLoss: 0.3863(train)\t|\tAcc: 85.6%(train)\n",
      "\tLoss: 0.4109(valid)\t|\tAcc: 82.7%(valid)\n",
      "Epoch: 3  | time in 0 minutes, 11 seconds\n",
      "\tLoss: 0.3101(train)\t|\tAcc: 89.3%(train)\n",
      "\tLoss: 0.4228(valid)\t|\tAcc: 82.5%(valid)\n",
      "Epoch: 4  | time in 0 minutes, 11 seconds\n",
      "\tLoss: 0.2854(train)\t|\tAcc: 89.6%(train)\n",
      "\tLoss: 0.5056(valid)\t|\tAcc: 81.8%(valid)\n",
      "Epoch: 5  | time in 0 minutes, 11 seconds\n",
      "\tLoss: 0.2450(train)\t|\tAcc: 91.8%(train)\n",
      "\tLoss: 0.5643(valid)\t|\tAcc: 81.8%(valid)\n",
      "Epoch: 6  | time in 0 minutes, 12 seconds\n",
      "\tLoss: 0.2341(train)\t|\tAcc: 92.7%(train)\n",
      "\tLoss: 0.4690(valid)\t|\tAcc: 81.6%(valid)\n",
      "Epoch: 7  | time in 0 minutes, 11 seconds\n",
      "\tLoss: 0.2112(train)\t|\tAcc: 93.7%(train)\n",
      "\tLoss: 0.5632(valid)\t|\tAcc: 80.2%(valid)\n",
      "Epoch: 8  | time in 0 minutes, 12 seconds\n",
      "\tLoss: 0.2332(train)\t|\tAcc: 92.2%(train)\n",
      "\tLoss: 0.5567(valid)\t|\tAcc: 82.1%(valid)\n",
      "Epoch: 9  | time in 0 minutes, 11 seconds\n",
      "\tLoss: 0.1636(train)\t|\tAcc: 95.3%(train)\n",
      "\tLoss: 0.6356(valid)\t|\tAcc: 81.6%(valid)\n",
      "Epoch: 10  | time in 0 minutes, 11 seconds\n",
      "\tLoss: 0.1335(train)\t|\tAcc: 96.1%(train)\n",
      "\tLoss: 0.6208(valid)\t|\tAcc: 81.9%(valid)\n"
     ]
    }
   ],
   "source": [
    "N_EPOCHS = 10\n",
    "CLIP = 1\n",
    "\n",
    "for epoch in range(1, N_EPOCHS + 1):\n",
    "\n",
    "  start_time = time.time()\n",
    "  train_loss, train_acc = train(model, train_iterator, optimizer, criterion, CLIP)\n",
    "  valid_loss, valid_acc = evaluate(model, valid_iterator, criterion)\n",
    "  end_time = time.time()\n",
    "  epoch_mins, epoch_secs = epoch_time(start_time, end_time)\n",
    "\n",
    "  print('Epoch: %d' %(epoch), \" | time in %d minutes, %d seconds\" %(epoch_mins, epoch_secs))\n",
    "  print(f'\\tLoss: {train_loss:.4f}(train)\\t|\\tAcc: {train_acc * 100:.1f}%(train)')\n",
    "  print(f'\\tLoss: {valid_loss:.4f}(valid)\\t|\\tAcc: {valid_acc * 100:.1f}%(valid)')"
   ]
  },
  {
   "cell_type": "code",
   "execution_count": 25,
   "metadata": {
    "colab": {},
    "colab_type": "code",
    "id": "SjinWg5C59Bh"
   },
   "outputs": [],
   "source": [
    "EMBED_DIM = 32\n",
    "HIDDEN_DIM = 32\n",
    "model = RNNTextSentiment(EMBED_DIM, HIDDEN_DIM, NUM_CLASS, INPUT_DIM,\n",
    "                         padding_idx=PAD_IDX, p=0.5).to(device)\n",
    "model.apply(init_weights)\n",
    "optimizer = optim.Adam(model.parameters(), lr=0.0003)"
   ]
  },
  {
   "cell_type": "code",
   "execution_count": 26,
   "metadata": {
    "colab": {
     "base_uri": "https://localhost:8080/",
     "height": 521
    },
    "colab_type": "code",
    "id": "BGo0eCFYEXQr",
    "outputId": "eefe920a-be26-463f-baef-86eab14b0446"
   },
   "outputs": [
    {
     "name": "stdout",
     "output_type": "stream",
     "text": [
      "Epoch: 1  | time in 0 minutes, 11 seconds\n",
      "\tLoss: 0.6931(train)\t|\tAcc: 50.6%(train)\n",
      "\tLoss: 0.6912(valid)\t|\tAcc: 67.3%(valid)\n",
      "Epoch: 2  | time in 0 minutes, 11 seconds\n",
      "\tLoss: 0.6082(train)\t|\tAcc: 69.9%(train)\n",
      "\tLoss: 0.5431(valid)\t|\tAcc: 74.7%(valid)\n",
      "Epoch: 3  | time in 0 minutes, 11 seconds\n",
      "\tLoss: 0.5073(train)\t|\tAcc: 78.9%(train)\n",
      "\tLoss: 0.4820(valid)\t|\tAcc: 78.4%(valid)\n",
      "Epoch: 4  | time in 0 minutes, 11 seconds\n",
      "\tLoss: 0.4405(train)\t|\tAcc: 83.0%(train)\n",
      "\tLoss: 0.4322(valid)\t|\tAcc: 81.6%(valid)\n",
      "Epoch: 5  | time in 0 minutes, 11 seconds\n",
      "\tLoss: 0.3871(train)\t|\tAcc: 86.1%(train)\n",
      "\tLoss: 0.4101(valid)\t|\tAcc: 82.9%(valid)\n",
      "Epoch: 6  | time in 0 minutes, 11 seconds\n",
      "\tLoss: 0.3477(train)\t|\tAcc: 88.1%(train)\n",
      "\tLoss: 0.4135(valid)\t|\tAcc: 82.6%(valid)\n",
      "Epoch: 7  | time in 0 minutes, 11 seconds\n",
      "\tLoss: 0.3128(train)\t|\tAcc: 89.7%(train)\n",
      "\tLoss: 0.3922(valid)\t|\tAcc: 83.7%(valid)\n",
      "Epoch: 8  | time in 0 minutes, 11 seconds\n",
      "\tLoss: 0.2904(train)\t|\tAcc: 90.7%(train)\n",
      "\tLoss: 0.4027(valid)\t|\tAcc: 83.6%(valid)\n",
      "Epoch: 9  | time in 0 minutes, 11 seconds\n",
      "\tLoss: 0.2629(train)\t|\tAcc: 92.0%(train)\n",
      "\tLoss: 0.3943(valid)\t|\tAcc: 84.0%(valid)\n",
      "Epoch: 10  | time in 0 minutes, 11 seconds\n",
      "\tLoss: 0.2399(train)\t|\tAcc: 92.9%(train)\n",
      "\tLoss: 0.3730(valid)\t|\tAcc: 84.9%(valid)\n"
     ]
    }
   ],
   "source": [
    "N_EPOCHS = 10\n",
    "CLIP = 1\n",
    "\n",
    "for epoch in range(1, N_EPOCHS + 1):\n",
    "\n",
    "  start_time = time.time()\n",
    "  train_loss, train_acc = train(model, train_iterator, optimizer, criterion, CLIP)\n",
    "  valid_loss, valid_acc = evaluate(model, valid_iterator, criterion)\n",
    "  end_time = time.time()\n",
    "  epoch_mins, epoch_secs = epoch_time(start_time, end_time)\n",
    "\n",
    "  print('Epoch: %d' %(epoch), \" | time in %d minutes, %d seconds\" %(epoch_mins, epoch_secs))\n",
    "  print(f'\\tLoss: {train_loss:.4f}(train)\\t|\\tAcc: {train_acc * 100:.1f}%(train)')\n",
    "  print(f'\\tLoss: {valid_loss:.4f}(valid)\\t|\\tAcc: {valid_acc * 100:.1f}%(valid)')"
   ]
  },
  {
   "cell_type": "code",
   "execution_count": 26,
   "metadata": {
    "colab": {},
    "colab_type": "code",
    "id": "I8ju77-HEhVW"
   },
   "outputs": [],
   "source": []
  }
 ],
 "metadata": {
  "accelerator": "GPU",
  "colab": {
   "authorship_tag": "ABX9TyMEflv2rpLd9ZJ6Z99YLswo",
   "collapsed_sections": [],
   "include_colab_link": true,
   "mount_file_id": "1HaIOpOtFSc4pjrdAglJT6cjgfkrJQIQ4",
   "name": "08_document_classification_with_RNN.ipynb",
   "provenance": []
  },
  "kernelspec": {
   "display_name": "Python 3",
   "language": "python",
   "name": "python3"
  },
  "language_info": {
   "codemirror_mode": {
    "name": "ipython",
    "version": 3
   },
   "file_extension": ".py",
   "mimetype": "text/x-python",
   "name": "python",
   "nbconvert_exporter": "python",
   "pygments_lexer": "ipython3",
   "version": "3.7.6"
  },
  "varInspector": {
   "cols": {
    "lenName": 16,
    "lenType": 16,
    "lenVar": 40
   },
   "kernels_config": {
    "python": {
     "delete_cmd_postfix": "",
     "delete_cmd_prefix": "del ",
     "library": "var_list.py",
     "varRefreshCmd": "print(var_dic_list())"
    },
    "r": {
     "delete_cmd_postfix": ") ",
     "delete_cmd_prefix": "rm(",
     "library": "var_list.r",
     "varRefreshCmd": "cat(var_dic_list()) "
    }
   },
   "types_to_exclude": [
    "module",
    "function",
    "builtin_function_or_method",
    "instance",
    "_Feature"
   ],
   "window_display": false
  }
 },
 "nbformat": 4,
 "nbformat_minor": 1
}
